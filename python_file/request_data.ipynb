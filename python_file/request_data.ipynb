{
 "cells": [
  {
   "cell_type": "code",
   "execution_count": 117,
   "metadata": {},
   "outputs": [],
   "source": [
    "import requests\n",
    "import telepot\n",
    "import datetime\n",
    "import time\n",
    "import pandas as pd\n",
    "import numpy as np\n",
    "from skpy import Skype"
   ]
  },
  {
   "cell_type": "markdown",
   "metadata": {},
   "source": [
    "# YABO"
   ]
  },
  {
   "cell_type": "code",
   "execution_count": 105,
   "metadata": {},
   "outputs": [],
   "source": [
    "LOGIN_URL = 'https://yb01.88lard.com/api/v1/manager/login'\n",
    "headers = {\n",
    "            'User-Agent': 'Mozilla/5.0 (Windows NT 10.0; Win64; x64) AppleWebKit/537.36 (KHTML, like Gecko) Chrome/84.0.4147.89 Safari/537.36',\n",
    "            }\n",
    "payload = {\n",
    "    'username': 'bbtorin',\n",
    "    'password': 'qwe123',\n",
    "}"
   ]
  },
  {
   "cell_type": "code",
   "execution_count": 106,
   "metadata": {},
   "outputs": [
    {
     "name": "stdout",
     "output_type": "stream",
     "text": [
      "<Response [200]>\n"
     ]
    }
   ],
   "source": [
    "#發送請求\n",
    "session_requests = requests.session()\n",
    "response = session_requests.request('PUT',url=LOGIN_URL, data=payload, headers=headers)\n",
    "print(response)\n",
    "ddd=(datetime.datetime.now() - datetime.timedelta(hours=12)).strftime(\"%Y-%m-%d\") \n",
    "ddd_delayone=(datetime.datetime.now() - datetime.timedelta(hours=36)).strftime(\"%Y-%m-%d\") \n",
    "#時間\n",
    "delay_oneday = (datetime.datetime.now() - datetime.timedelta(hours=12)).strftime(\"%Y-%m-%d, %H\") \n",
    "\n",
    "check_time=(datetime.datetime.now() - datetime.timedelta(hours=12)).strftime(\"%H\") \n",
    "if check_time == '00':\n",
    "    ddd=(datetime.datetime.now() - datetime.timedelta(hours=36)).strftime(\"%Y-%m-%d\") \n",
    "    ddd_delayone=(datetime.datetime.now() - datetime.timedelta(hours=60)).strftime(\"%Y-%m-%d\")  \n",
    "    delay_oneday = (datetime.datetime.now() - datetime.timedelta(hours=36)).strftime(\"%Y-%m-%d, %H\") \n",
    "    time.sleep(3) "
   ]
  },
  {
   "cell_type": "code",
   "execution_count": 107,
   "metadata": {},
   "outputs": [],
   "source": [
    "#測試帳號撈取\n",
    "session_requests = requests.session()\n",
    "response = session_requests.request('PUT',url=LOGIN_URL, data=payload, headers=headers)\n",
    "ttt = session_requests.get(\"https://yb01.88lard.com/api/v1/player/list?level=581&enable=1&first_deposit=3&country_code=0&search=user&first_result=0&max_results=1000&sort=id&order=desc&use_cache=true&fields=bankrupt&fields=blacklist&fields=cash&fields=enable&fields=id&fields=last_city_id&fields=last_country&fields=last_ip&fields=last_login&fields=last_online&fields=level&fields=locked&fields=parent&fields=tied&fields=username&fields=upper\" , headers=headers )\n",
    "output_data=ttt.json()['ret']\n",
    "test_user=pd.DataFrame(output_data)[['username','enable']]\n",
    "\n",
    "#計算有效投注人數\n",
    "ttt = session_requests.get(\"https://yb01.88lard.com/api/v1/stats/agents/wager_report?canceled=0&start_at=\"+str(ddd)+\"T00%3A00%3A00-04%3A00&end_at=\"+str(ddd)+\"T23%3A59%3A59-04%3A00&timeOption=at&currency=&to_CNY=true&specify=0&=&=&=&parentOption=all&first_result=0&max_results=20\" , headers=headers )\n",
    "output_data=ttt.json()['ret']\n",
    "parent_id=pd.DataFrame(output_data)[['parent_id','user_count']]\n",
    "\n",
    "total_list=[]\n",
    "list_data_all=[]\n",
    "for i in range(parent_id.shape[0]) : \n",
    "    p_id=parent_id.iloc[i,0]\n",
    "    u_count=parent_id.iloc[i,1]\n",
    "    list_data_all=[]\n",
    "    for j in range(0,int(u_count),1000): \n",
    "        ttt = session_requests.get(\"https://yb01.88lard.com/api/v1/stats/agent/\"+str(p_id)+\"/children/wager_report?start_at=\"+str(ddd)+\"T00%3A00%3A00-04%3A00&end_at=\"+str(ddd)+\"T23%3A59%3A59-04%3A00&canceled=0&first_result=\"+str(j)+\"&max_results=1000&currency=&to_CNY=true\" , headers=headers )\n",
    "        output_data=ttt.json()['ret']\n",
    "        list_data_all=list_data_all+output_data\n",
    "    total_list=total_list+list_data_all\n",
    "all_bet_user=pd.DataFrame(total_list)[['username','payoff','valid_bet']]\n",
    "formal_user_bet=pd.merge(all_bet_user,test_user,on = 'username',how = 'left')\n",
    "user_bet_total=formal_user_bet[~(formal_user_bet['enable']==True)]"
   ]
  },
  {
   "cell_type": "code",
   "execution_count": 108,
   "metadata": {},
   "outputs": [],
   "source": [
    "#deposite withdraw\n",
    "list_data_all=[]\n",
    "for i in range(0, 10000, 1000) : \n",
    "    ttt333 = session_requests.get(\"https://yb01.88lard.com/api/v1/wallet/invoice/list?submit_start=\"+ddd_delayone+\"T00%3A00%3A00-04%3A00&submit_end=\"+ddd+\"T23%3A59%3A59-04%3A00&first_result=\"+str(i)+\"&max_results=1000&updated_start=\"+ddd+\"T00%3A00%3A00-04%3A00&updated_end=\"+ddd+\"T23%3A59%3A59-04%3A00\" , headers=headers )\n",
    "    output_data=ttt333.json()['ret']\n",
    "    list_data_all=list_data_all+output_data\n",
    "df_all=pd.DataFrame(list_data_all)\n",
    "\n",
    "df_all=df_all[df_all['status']==True]    #成功單\n",
    "df_all=df_all[df_all['level_id'] != 581]  #測試會員 \n",
    "df_all=df_all[df_all['opcode'] != 1049]   #轉讓充值\n",
    "deposit=sum(df_all['amount'].astype('float'))\n",
    "user_count_dep=df_all['user_id'].nunique()\n",
    "\n",
    "#withdraw\n",
    "list_data_all=[]\n",
    "for i in range(0, 10000, 1000) :  \n",
    "    ttt333 = session_requests.get(\"https://yb01.88lard.com/api/v1/withdraw/list?status_total=true&first_result=\"+str(i)+\"&max_results=1000&start_created_at=\"+ddd+\"T00%3A00%3A00-04%3A00&end_created_at=\"+ddd+\"T23%3A59%3A59-04%3A00\" , headers=headers )\n",
    "    output_data=ttt333.json()['ret']\n",
    "    list_data_all=list_data_all+output_data\n",
    "df_all=pd.DataFrame(list_data_all)\n",
    "df_all=df_all[df_all['status']=='成功']    #成功單\n",
    "df_all=df_all[df_all['level_id'] != 581]  #測試會員 \n",
    "withdraw=sum(df_all['amount'].astype('float'))"
   ]
  },
  {
   "cell_type": "code",
   "execution_count": 109,
   "metadata": {},
   "outputs": [],
   "source": [
    "#獲取訊息\n",
    "payoff=round(float(str( sum(user_bet_total['payoff'].astype('float')) ).replace(\"None\",'0'))*-1,1)\n",
    "valid_bet=round(float(str( sum(user_bet_total['valid_bet'].astype('float')) ).replace(\"None\",'0')),1)\n",
    "user_count_bet=str( user_bet_total.shape[0] ).replace(\"NaN\",'0')\n",
    "\n",
    "withdraw=float(str(withdraw).replace(\"None\",'0'))\n",
    "deposit=float(str(deposit).replace(\"None\",'0'))\n",
    "user_count_dep=str(user_count_dep).replace(\"None\",'0')"
   ]
  },
  {
   "cell_type": "code",
   "execution_count": 97,
   "metadata": {},
   "outputs": [],
   "source": [
    "sk = Skype('troy30222@gmail.com' , 'sancho130222')\n",
    "sk.chats.chat('19:4f608eb0d3564058911ccc1961edd76a@thread.skype').sendMsg(\n",
    "'YABO-'+'美東時間 : '+ str(delay_oneday) +'時'+ \"\\n\" +\n",
    "'派彩 : '+ str(payoff) + \"\\n\" +\n",
    "'有效投注金額 : '+ str(valid_bet) + \"\\n\" +\n",
    "'有效投注人數 : '+ str(user_count_bet) + \"\\n\" +\n",
    "'存款金額 : '+ str(round(deposit,1)) + \"\\n\" +\n",
    "'存提差 : '+ str(round(deposit-withdraw,1)) + \"\\n\" +\n",
    "'充值人數 : '+ str(user_count_dep) + \"\\n\" \n",
    ")"
   ]
  },
  {
   "cell_type": "markdown",
   "metadata": {},
   "source": [
    "# SG"
   ]
  },
  {
   "cell_type": "code",
   "execution_count": 111,
   "metadata": {},
   "outputs": [],
   "source": [
    "LOGIN_URL = 'https://sg.88lard.com/api/v1/manager/login'\n",
    "headers = {\n",
    "            'User-Agent': 'Mozilla/5.0 (Windows NT 10.0; Win64; x64) AppleWebKit/537.36 (KHTML, like Gecko) Chrome/84.0.4147.89 Safari/537.36',\n",
    "            }\n",
    "payload = {\n",
    "    'username': 'bbtorin',\n",
    "    'password': 'qwe123',\n",
    "}"
   ]
  },
  {
   "cell_type": "code",
   "execution_count": 112,
   "metadata": {},
   "outputs": [
    {
     "name": "stdout",
     "output_type": "stream",
     "text": [
      "<Response [200]>\n"
     ]
    }
   ],
   "source": [
    "#發送請求\n",
    "session_requests = requests.session()\n",
    "response = session_requests.request('PUT',url=LOGIN_URL, data=payload, headers=headers)\n",
    "print(response)\n",
    "ddd=(datetime.datetime.now() - datetime.timedelta(hours=12)).strftime(\"%Y-%m-%d\") \n",
    "ddd_delayone=(datetime.datetime.now() - datetime.timedelta(hours=36)).strftime(\"%Y-%m-%d\") \n",
    "#時間\n",
    "delay_oneday = (datetime.datetime.now() - datetime.timedelta(hours=12)).strftime(\"%Y-%m-%d, %H\") \n",
    "\n",
    "check_time=(datetime.datetime.now() - datetime.timedelta(hours=12)).strftime(\"%H\") \n",
    "if check_time == '00':\n",
    "    ddd=(datetime.datetime.now() - datetime.timedelta(hours=36)).strftime(\"%Y-%m-%d\") \n",
    "    ddd_delayone=(datetime.datetime.now() - datetime.timedelta(hours=60)).strftime(\"%Y-%m-%d\")  \n",
    "    delay_oneday = (datetime.datetime.now() - datetime.timedelta(hours=36)).strftime(\"%Y-%m-%d, %H\") \n",
    "    time.sleep(3) "
   ]
  },
  {
   "cell_type": "code",
   "execution_count": 113,
   "metadata": {},
   "outputs": [],
   "source": [
    "#測試帳號撈取\n",
    "session_requests = requests.session()\n",
    "response = session_requests.request('PUT',url=LOGIN_URL, data=payload, headers=headers)\n",
    "ttt1 = session_requests.get(\"https://sg.88lard.com/api/v1/player/list?level=797&enable=1&first_deposit=3&country_code=0&search=user&first_result=0&max_results=1000&sort=id&order=desc&use_cache=true&fields=bankrupt&fields=blacklist&fields=cash&fields=enable&fields=id&fields=last_city_id&fields=last_country&fields=last_ip&fields=last_login&fields=last_online&fields=level&fields=locked&fields=parent&fields=tied&fields=username&fields=upper\" , headers=headers )\n",
    "output_data=ttt1.json()['ret']\n",
    "test_user=pd.DataFrame(output_data)[['username','enable']]\n",
    "\n",
    "#計算有效投注人數          \n",
    "ttt2 = session_requests.get(\"https://sg.88lard.com/api/v1/stats/agents/wager_report?canceled=0&start_at=\"+str(ddd)+\"T00%3A00%3A00-04%3A00&end_at=\"+str(ddd)+\"T23%3A59%3A59-04%3A00&timeOption=at&currency=&to_CNY=true&specify=0&=&=&=&parentOption=all&first_result=0&max_results=20\" , headers=headers )\n",
    "output_data=ttt2.json()['ret']\n",
    "parent_id=pd.DataFrame(output_data)[['parent_id','user_count']]\n",
    "\n",
    "total_list=[]\n",
    "list_data_all=[]\n",
    "for i in range(parent_id.shape[0]) : \n",
    "    p_id=parent_id.iloc[i,0]\n",
    "    u_count=parent_id.iloc[i,1]\n",
    "    list_data_all=[]\n",
    "    for j in range(0,int(u_count),1000): \n",
    "        ttt3 = session_requests.get(\"https://sg.88lard.com/api/v1/stats/agent/\"+str(p_id)+\"/children/wager_report?start_at=\"+str(ddd)+\"T00%3A00%3A00-04%3A00&end_at=\"+str(ddd)+\"T23%3A59%3A59-04%3A00&canceled=0&first_result=\"+str(j)+\"&max_results=1000&currency=&to_CNY=true\" , headers=headers )\n",
    "        output_data=ttt3.json()['ret']\n",
    "        list_data_all=list_data_all+output_data\n",
    "    total_list=total_list+list_data_all\n",
    "all_bet_user=pd.DataFrame(total_list)[['username','payoff','valid_bet']]\n",
    "formal_user_bet=pd.merge(all_bet_user,test_user,on = 'username',how = 'left')\n",
    "user_bet_total=formal_user_bet[~(formal_user_bet['enable']==True)]"
   ]
  },
  {
   "cell_type": "code",
   "execution_count": 114,
   "metadata": {},
   "outputs": [],
   "source": [
    "#deposite \n",
    "list_data_all=[]\n",
    "for i in range(0, 10000, 1000) : \n",
    "    ttt333 = session_requests.get(\"https://sg.88lard.com/api/v1/wallet/invoice/list?submit_start=\"+ddd_delayone+\"T00%3A00%3A00-04%3A00&submit_end=\"+ddd+\"T23%3A59%3A59-04%3A00&first_result=\"+str(i)+\"&max_results=1000&updated_start=\"+ddd+\"T00%3A00%3A00-04%3A00&updated_end=\"+ddd+\"T23%3A59%3A59-04%3A00\" , headers=headers )\n",
    "    output_data=ttt333.json()['ret']\n",
    "    list_data_all=list_data_all+output_data\n",
    "df_all=pd.DataFrame(list_data_all)\n",
    "df_all=df_all[df_all['status']==True]    #成功單\n",
    "df_all=df_all[df_all['level_id'] != 797]  #測試會員 \n",
    "df_all=df_all[df_all['opcode'] != 1049]   #轉讓充值\n",
    "deposit=sum(df_all['amount'].astype('float'))\n",
    "user_count_dep=df_all['user_id'].nunique()\n",
    "\n",
    "#withdraw\n",
    "list_data_all=[]\n",
    "for i in range(0, 10000, 1000) : \n",
    "    ttt333 = session_requests.get(\"https://sg.88lard.com/api/v1/withdraw/list?status_total=true&first_result=\"+str(i)+\"&max_results=1000&start_created_at=\"+ddd+\"T00%3A00%3A00-04%3A00&end_created_at=\"+ddd+\"T23%3A59%3A59-04%3A00\" , headers=headers )\n",
    "    output_data=ttt333.json()['ret']\n",
    "    list_data_all=list_data_all+output_data\n",
    "df_all=pd.DataFrame(list_data_all)\n",
    "df_all=df_all[df_all['status']=='成功']    #成功單\n",
    "df_all=df_all[df_all['level_id'] != 797]  #測試會員 \n",
    "withdraw=sum(df_all['amount'].astype('float'))"
   ]
  },
  {
   "cell_type": "code",
   "execution_count": 115,
   "metadata": {},
   "outputs": [],
   "source": [
    "#獲取訊息\n",
    "payoff=round(float(str( sum(user_bet_total['payoff'].astype('float')) ).replace(\"None\",'0'))*-1,1)\n",
    "valid_bet=round(float(str( sum(user_bet_total['valid_bet'].astype('float')) ).replace(\"None\",'0')),1)\n",
    "user_count_bet=str( user_bet_total.shape[0] ).replace(\"NaN\",'0')\n",
    "\n",
    "withdraw=float(str(withdraw).replace(\"None\",'0'))\n",
    "deposit=float(str(deposit).replace(\"None\",'0'))\n",
    "user_count_dep=str(user_count_dep).replace(\"None\",'0')"
   ]
  },
  {
   "cell_type": "code",
   "execution_count": 103,
   "metadata": {},
   "outputs": [],
   "source": [
    "sk = Skype('troy30222@gmail.com' , 'sancho130222')\n",
    "sk.chats.chat('19:4f608eb0d3564058911ccc1961edd76a@thread.skype').sendMsg(\n",
    "'SIGUA-'+'美東時間 : '+ str(delay_oneday) +'時'+ \"\\n\" +\n",
    "'派彩 : '+ str(payoff) + \"\\n\" +\n",
    "'有效投注金額 : '+ str(valid_bet) + \"\\n\" +\n",
    "'有效投注人數 : '+ str(user_count_bet) + \"\\n\" +\n",
    "'存款金額 : '+ str(round(deposit,1)) + \"\\n\" +\n",
    "'存提差 : '+ str(round(deposit-withdraw,1)) + \"\\n\" +\n",
    "'充值人數 : '+ str(user_count_dep) + \"\\n\" \n",
    ")"
   ]
  },
  {
   "cell_type": "code",
   "execution_count": null,
   "metadata": {},
   "outputs": [],
   "source": []
  },
  {
   "cell_type": "code",
   "execution_count": null,
   "metadata": {},
   "outputs": [],
   "source": []
  },
  {
   "cell_type": "code",
   "execution_count": null,
   "metadata": {},
   "outputs": [],
   "source": [
    "'''\n",
    "sk = Skype('troy30222@gmail.com' , 'sancho130222')\n",
    "sk.chats.chat('19:4f608eb0d3564058911ccc1961edd76a@thread.skype').sendMsg(\n",
    "'YABO-'+'美東時間 : '+ str(delay_oneday) +'時'+ \"\\n\" +\n",
    "'派彩 : '+ str(payoff) + \"\\n\" +\n",
    "'有效投注金額 : '+ str(valid_bet) + \"\\n\" +\n",
    "'有效投注人數 : '+ str(user_count_bet) + \"\\n\" +\n",
    "'存款金額 : '+ str(round(deposit,1)) + \"\\n\" +\n",
    "'存提差 : '+ str(round(deposit-withdraw,1)) + \"\\n\" +\n",
    "'充值人數 : '+ str(user_count_dep) + \"\\n\" \n",
    ")\n",
    "\n",
    "sk = Skype('troy30222@gmail.com' , 'sancho130222')\n",
    "sk.chats.chat('19:4f608eb0d3564058911ccc1961edd76a@thread.skype').sendMsg(\n",
    "'SIGUA-'+'美東時間 : '+ str(delay_oneday) +'時'+ \"\\n\" +\n",
    "'派彩 : '+ str(payoff) + \"\\n\" +\n",
    "'有效投注金額 : '+ str(valid_bet) + \"\\n\" +\n",
    "'有效投注人數 : '+ str(user_count_bet) + \"\\n\" +\n",
    "'存款金額 : '+ str(round(deposit,1)) + \"\\n\" +\n",
    "'存提差 : '+ str(round(deposit-withdraw,1)) + \"\\n\" +\n",
    "'充值人數 : '+ str(user_count_dep) + \"\\n\" \n",
    ")\n",
    "\n",
    "\n",
    "def send_telegrame():\n",
    "    tele_chatid=['-408673375']         #测试 -451149494   #正式 -空 \n",
    "    tele_token='1020859504:AAEb-tLbaBjJvJqBsLCzCsStrgTlZNqXRR8'\n",
    "    bot = telepot.Bot(tele_token)\n",
    "    bot.sendMessage(chat_id=tele_chatid[0],\n",
    "        text= 'SIGUA-'+'美東時間 : '+ str(delay_oneday) +'時'+ \"\\n\" +\n",
    "              '派彩 : '+ str(payoff) + \"\\n\" +\n",
    "              '有效投注金額 : '+ str(valid_bet) + \"\\n\" +\n",
    "              '有效投注人數 : '+ str(user_count_bet) + \"\\n\" +\n",
    "              '存款金額 : '+ str(deposit) + \"\\n\" +\n",
    "              '存提差 : '+ str(deposit-withdraw) + \"\\n\" +\n",
    "              '充值人數 : '+ str(user_count_dep) + \"\\n\"    \n",
    "              )\n",
    "send_telegrame()\n",
    "'''"
   ]
  },
  {
   "cell_type": "code",
   "execution_count": null,
   "metadata": {},
   "outputs": [],
   "source": [
    "#sk.chats.recent() \n",
    "#sk.chats.chat('19:4f608eb0d3564058911ccc1961edd76a@thread.skype').sendFile(open(\"song.mp3\", \"rb\"), \"song.mp3\") "
   ]
  }
 ],
 "metadata": {
  "kernelspec": {
   "display_name": "Python 3",
   "language": "python",
   "name": "python3"
  },
  "language_info": {
   "codemirror_mode": {
    "name": "ipython",
    "version": 3
   },
   "file_extension": ".py",
   "mimetype": "text/x-python",
   "name": "python",
   "nbconvert_exporter": "python",
   "pygments_lexer": "ipython3",
   "version": "3.8.5"
  }
 },
 "nbformat": 4,
 "nbformat_minor": 4
}
