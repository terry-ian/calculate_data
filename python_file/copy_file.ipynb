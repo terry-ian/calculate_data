{
 "cells": [
  {
   "cell_type": "code",
   "execution_count": 5,
   "metadata": {},
   "outputs": [
    {
     "data": {
      "text/plain": [
       "0"
      ]
     },
     "execution_count": 5,
     "metadata": {},
     "output_type": "execute_result"
    }
   ],
   "source": [
    "import os\n",
    "os.system(\"taskkill /im python.exe\")"
   ]
  },
  {
   "cell_type": "code",
   "execution_count": null,
   "metadata": {},
   "outputs": [],
   "source": [
    "import shutil \n",
    "import os\n",
    "import time\n",
    "\n",
    "shutil.rmtree('F:\\\\Desktop\\\\download_csv_copy')  \n",
    "time.sleep(3)\n",
    "shutil.copytree('F:\\\\Desktop\\\\download_csv', 'F:\\\\Desktop\\\\download_csv_copy', symlinks=False, ignore=None)\n",
    "time.sleep(3)\n",
    "shutil.rmtree('F:\\\\Desktop\\\\download_csv')  \n",
    "time.sleep(3)\n",
    "os.mkdir('F:\\\\Desktop\\\\download_csv')     "
   ]
  },
  {
   "cell_type": "code",
   "execution_count": null,
   "metadata": {},
   "outputs": [],
   "source": []
  }
 ],
 "metadata": {
  "kernelspec": {
   "display_name": "Python 3",
   "language": "python",
   "name": "python3"
  },
  "language_info": {
   "codemirror_mode": {
    "name": "ipython",
    "version": 3
   },
   "file_extension": ".py",
   "mimetype": "text/x-python",
   "name": "python",
   "nbconvert_exporter": "python",
   "pygments_lexer": "ipython3",
   "version": "3.8.5"
  }
 },
 "nbformat": 4,
 "nbformat_minor": 4
}
