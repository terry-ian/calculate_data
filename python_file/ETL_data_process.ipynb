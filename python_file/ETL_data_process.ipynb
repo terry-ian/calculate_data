{
 "cells": [
  {
   "cell_type": "code",
   "execution_count": 1,
   "metadata": {},
   "outputs": [],
   "source": [
    "import pymysql\n",
    "import pandas as pd\n",
    "import numpy as np\n",
    "#from sqlalchemy import create_engine"
   ]
  },
  {
   "cell_type": "code",
   "execution_count": 2,
   "metadata": {},
   "outputs": [],
   "source": [
    "config_read = {'host':'mysql-rfam-public.ebi.ac.uk','port':4497,'user':'rfamro','db':'Rfam','charset':'utf8mb4'} #,'password':'none'\n",
    "config_insert = {'host':'remotemysql.com','port':3306,'user':'nxG0uS1RMI','password':'UG9Opfcult','db':'nxG0uS1RMI','charset':'utf8mb4'} "
   ]
  },
  {
   "cell_type": "code",
   "execution_count": 2,
   "metadata": {},
   "outputs": [],
   "source": [
    "config_read = {'host':'34.84.45.183','port':3306,'user':'btorin','password':'77ssrdw@yb','db':'ssr_dw_yb01','charset':'utf8mb4'} #,'password':'none'\n"
   ]
  },
  {
   "cell_type": "code",
   "execution_count": 3,
   "metadata": {},
   "outputs": [],
   "source": [
    "def read_mysql_table(sql_text,config_read):\n",
    "    con=pymysql.connect(**config_read) #打开数据库连接\n",
    "    df = pd.read_sql(sql_text, con)\n",
    "    con.close()#关闭数据库连接\n",
    "    return(df)\n",
    "\n",
    "def insert_mysql_table(sql_text,val):\n",
    "    con=pymysql.connect(**config_insert) #打开数据库连接\n",
    "    cursor = con.cursor()\n",
    "    sql_text = sql_text\n",
    "    val=val\n",
    "    try:\n",
    "        cursor.executemany(sql_text,val) # 执行sql语句\n",
    "        con.commit() # 提交到数据库执行\n",
    "    except Exception as e:\n",
    "        print(e)   # 如果发生错误则回滚\n",
    "        con.rollback()\n",
    "    con.close()#关闭数据库连接"
   ]
  },
  {
   "cell_type": "code",
   "execution_count": 11,
   "metadata": {},
   "outputs": [],
   "source": [
    "sql_test = 'select user_id,username,created_at,last_login,balance,level_name from member_info where level_name != \"測試帳號\" and balance >= 1; '\n",
    "data_test_table=read_mysql_table(sql_test,config_read)"
   ]
  },
  {
   "cell_type": "code",
   "execution_count": 12,
   "metadata": {},
   "outputs": [],
   "source": [
    "sql_test_123 = 'select user_id,sum(deposit_count) as count from deposit_record group by user_id ; '\n",
    "data_user_dep=read_mysql_table(sql_test_123,config_read)"
   ]
  },
  {
   "cell_type": "code",
   "execution_count": 21,
   "metadata": {},
   "outputs": [],
   "source": [
    "final_data_user=pd.merge(data_test_table,data_user_dep,on = 'user_id',how = 'left')"
   ]
  },
  {
   "cell_type": "code",
   "execution_count": 23,
   "metadata": {},
   "outputs": [],
   "source": [
    "final_data_user['count']=final_data_user['count'].fillna(0)"
   ]
  },
  {
   "cell_type": "code",
   "execution_count": 26,
   "metadata": {},
   "outputs": [],
   "source": [
    "final_data_user=final_data_user[final_data_user['count']==0]"
   ]
  },
  {
   "cell_type": "code",
   "execution_count": 28,
   "metadata": {},
   "outputs": [],
   "source": [
    "final_data_user=final_data_user[['username','created_at','last_login','balance','level_name']]"
   ]
  },
  {
   "cell_type": "code",
   "execution_count": 31,
   "metadata": {},
   "outputs": [
    {
     "data": {
      "text/plain": [
       "1367010"
      ]
     },
     "execution_count": 31,
     "metadata": {},
     "output_type": "execute_result"
    }
   ],
   "source": [
    "final_data_user.shape[0]"
   ]
  },
  {
   "cell_type": "code",
   "execution_count": 32,
   "metadata": {},
   "outputs": [],
   "source": [
    "test12=final_data_user[0:700000]"
   ]
  },
  {
   "cell_type": "code",
   "execution_count": 34,
   "metadata": {},
   "outputs": [],
   "source": [
    "test34=final_data_user[700000:1400000]"
   ]
  },
  {
   "cell_type": "code",
   "execution_count": 38,
   "metadata": {},
   "outputs": [],
   "source": [
    "test12.to_csv('F:/Desktop/user_data/user_list1.csv' ,encoding=\"utf_8_sig\" )"
   ]
  },
  {
   "cell_type": "code",
   "execution_count": 39,
   "metadata": {},
   "outputs": [],
   "source": [
    "test34.to_csv('F:/Desktop/user_data/user_list2.csv' ,encoding=\"utf_8_sig\" )"
   ]
  },
  {
   "cell_type": "code",
   "execution_count": 41,
   "metadata": {},
   "outputs": [
    {
     "data": {
      "text/html": [
       "<div>\n",
       "<style scoped>\n",
       "    .dataframe tbody tr th:only-of-type {\n",
       "        vertical-align: middle;\n",
       "    }\n",
       "\n",
       "    .dataframe tbody tr th {\n",
       "        vertical-align: top;\n",
       "    }\n",
       "\n",
       "    .dataframe thead th {\n",
       "        text-align: right;\n",
       "    }\n",
       "</style>\n",
       "<table border=\"1\" class=\"dataframe\">\n",
       "  <thead>\n",
       "    <tr style=\"text-align: right;\">\n",
       "      <th></th>\n",
       "      <th>username</th>\n",
       "      <th>created_at</th>\n",
       "      <th>last_login</th>\n",
       "      <th>balance</th>\n",
       "      <th>level_name</th>\n",
       "    </tr>\n",
       "  </thead>\n",
       "  <tbody>\n",
       "    <tr>\n",
       "      <th>1515577</th>\n",
       "      <td>17342051503</td>\n",
       "      <td>2021-01-12 02:49:32</td>\n",
       "      <td>2021-01-12 02:49:33</td>\n",
       "      <td>38.75</td>\n",
       "      <td>一般會員</td>\n",
       "    </tr>\n",
       "    <tr>\n",
       "      <th>1515578</th>\n",
       "      <td>qbj123456789</td>\n",
       "      <td>2021-01-12 02:49:41</td>\n",
       "      <td>2021-01-12 02:49:42</td>\n",
       "      <td>38.00</td>\n",
       "      <td>一般會員</td>\n",
       "    </tr>\n",
       "    <tr>\n",
       "      <th>1515579</th>\n",
       "      <td>a73848725</td>\n",
       "      <td>2021-01-12 02:50:03</td>\n",
       "      <td>2021-01-12 02:50:04</td>\n",
       "      <td>38.25</td>\n",
       "      <td>一般會員</td>\n",
       "    </tr>\n",
       "    <tr>\n",
       "      <th>1515580</th>\n",
       "      <td>hodxijgkgzggi</td>\n",
       "      <td>2021-01-12 02:50:10</td>\n",
       "      <td>2021-01-12 02:50:10</td>\n",
       "      <td>38.50</td>\n",
       "      <td>一般會員</td>\n",
       "    </tr>\n",
       "    <tr>\n",
       "      <th>1515581</th>\n",
       "      <td>159753xxx</td>\n",
       "      <td>2021-01-12 02:50:15</td>\n",
       "      <td>2021-01-12 02:50:15</td>\n",
       "      <td>39.50</td>\n",
       "      <td>一般會員</td>\n",
       "    </tr>\n",
       "  </tbody>\n",
       "</table>\n",
       "</div>"
      ],
      "text/plain": [
       "              username          created_at          last_login  balance  \\\n",
       "1515577    17342051503 2021-01-12 02:49:32 2021-01-12 02:49:33    38.75   \n",
       "1515578   qbj123456789 2021-01-12 02:49:41 2021-01-12 02:49:42    38.00   \n",
       "1515579      a73848725 2021-01-12 02:50:03 2021-01-12 02:50:04    38.25   \n",
       "1515580  hodxijgkgzggi 2021-01-12 02:50:10 2021-01-12 02:50:10    38.50   \n",
       "1515581      159753xxx 2021-01-12 02:50:15 2021-01-12 02:50:15    39.50   \n",
       "\n",
       "        level_name  \n",
       "1515577       一般會員  \n",
       "1515578       一般會員  \n",
       "1515579       一般會員  \n",
       "1515580       一般會員  \n",
       "1515581       一般會員  "
      ]
     },
     "execution_count": 41,
     "metadata": {},
     "output_type": "execute_result"
    }
   ],
   "source": [
    "test34.tail()"
   ]
  },
  {
   "cell_type": "code",
   "execution_count": null,
   "metadata": {},
   "outputs": [],
   "source": []
  },
  {
   "cell_type": "code",
   "execution_count": 74,
   "metadata": {},
   "outputs": [],
   "source": [
    "#成功  審核時間\n",
    "data_user = pd.read_csv(\"F:/Downloads/daily_register (1).csv\" , encoding = \"utf-8\")\n",
    "data_user.shape\n",
    "data_user=data_user.fillna(0)\n",
    "data_user['注册时间']=data_user['注册时间'].astype(str).str.replace(\"=\",\"\").str.replace('\"',\"\")\n",
    "data_user['主帐户余额']=data_user['主帐户余额'].astype(str).str.replace(\"=\",\"\").str.replace('\"',\"\")\n",
    "data_user['损益']=data_user['损益'].astype(str).str.replace(\"=\",\"\").str.replace('\"',\"\")"
   ]
  },
  {
   "cell_type": "code",
   "execution_count": 75,
   "metadata": {},
   "outputs": [],
   "source": [
    "#批量寫入DB中   \n",
    "sql_text_write=\"INSERT INTO user_table(ad, name_1, name_2,name_3, name_4, ip,time, country, city, balance,payoff, level, state_1, freez_1,stop_1,lock_1) \\\n",
    "                VALUES (%s,%s,%s,%s,%s,%s,%s,%s,%s,%s,%s,%s,%s,%s,%s,%s) \\\n",
    "                ON DUPLICATE KEY UPDATE  ad=VALUES(ad),name_1=VALUES(name_1),name_2=VALUES(name_2),name_3=VALUES(name_3),name_4=VALUES(name_4),ip=VALUES(ip),time=VALUES(time),country=VALUES(country),city=VALUES(city),balance=VALUES(balance),payoff=VALUES(payoff),level=VALUES(level),state_1=VALUES(state_1),freez_1=VALUES(freez_1),stop_1=VALUES(stop_1),lock_1=VALUES(lock_1)  ;\"  \n",
    "insert_mysql_table(sql_text_write,data_user.values.tolist())"
   ]
  },
  {
   "cell_type": "code",
   "execution_count": 76,
   "metadata": {},
   "outputs": [],
   "source": [
    "sql_test = 'select * from user_table where name_1=\"gcg0603t\" '\n",
    "data_test_table=read_mysql_table(sql_test,config_insert)"
   ]
  },
  {
   "cell_type": "code",
   "execution_count": 77,
   "metadata": {},
   "outputs": [
    {
     "data": {
      "text/html": [
       "<div>\n",
       "<style scoped>\n",
       "    .dataframe tbody tr th:only-of-type {\n",
       "        vertical-align: middle;\n",
       "    }\n",
       "\n",
       "    .dataframe tbody tr th {\n",
       "        vertical-align: top;\n",
       "    }\n",
       "\n",
       "    .dataframe thead th {\n",
       "        text-align: right;\n",
       "    }\n",
       "</style>\n",
       "<table border=\"1\" class=\"dataframe\">\n",
       "  <thead>\n",
       "    <tr style=\"text-align: right;\">\n",
       "      <th></th>\n",
       "      <th>ad</th>\n",
       "      <th>name_1</th>\n",
       "      <th>name_2</th>\n",
       "      <th>name_3</th>\n",
       "      <th>name_4</th>\n",
       "      <th>ip</th>\n",
       "      <th>time</th>\n",
       "      <th>country</th>\n",
       "      <th>city</th>\n",
       "      <th>balance</th>\n",
       "      <th>payoff</th>\n",
       "      <th>level</th>\n",
       "      <th>state_1</th>\n",
       "      <th>freez_1</th>\n",
       "      <th>stop_1</th>\n",
       "      <th>lock_1</th>\n",
       "    </tr>\n",
       "  </thead>\n",
       "  <tbody>\n",
       "    <tr>\n",
       "      <th>0</th>\n",
       "      <td>1</td>\n",
       "      <td>gcg0603t</td>\n",
       "      <td>0</td>\n",
       "      <td>hall0</td>\n",
       "      <td>agent0</td>\n",
       "      <td>240e:370:3f26:2f80:3d00:dbb0:66df:6725</td>\n",
       "      <td>2020-06-01 00:00:01</td>\n",
       "      <td>中国</td>\n",
       "      <td>0</td>\n",
       "      <td>0.00</td>\n",
       "      <td>0.00</td>\n",
       "      <td>一般會員</td>\n",
       "      <td>已停用</td>\n",
       "      <td>未冻结</td>\n",
       "      <td>未停权</td>\n",
       "      <td>未锁定</td>\n",
       "    </tr>\n",
       "  </tbody>\n",
       "</table>\n",
       "</div>"
      ],
      "text/plain": [
       "   ad    name_1 name_2 name_3  name_4                                      ip  \\\n",
       "0   1  gcg0603t      0  hall0  agent0  240e:370:3f26:2f80:3d00:dbb0:66df:6725   \n",
       "\n",
       "                  time country city balance payoff level state_1 freez_1  \\\n",
       "0  2020-06-01 00:00:01      中国    0    0.00   0.00  一般會員     已停用     未冻结   \n",
       "\n",
       "  stop_1 lock_1  \n",
       "0    未停权    未锁定  "
      ]
     },
     "execution_count": 77,
     "metadata": {},
     "output_type": "execute_result"
    }
   ],
   "source": [
    "data_test_table.head()"
   ]
  },
  {
   "cell_type": "code",
   "execution_count": 63,
   "metadata": {},
   "outputs": [],
   "source": [
    "data_test_table.iloc[0:1][\"lock_1\"] = '已解鎖'"
   ]
  },
  {
   "cell_type": "code",
   "execution_count": 70,
   "metadata": {},
   "outputs": [],
   "source": [
    "insert_mysql_table(sql_text_write,data_test_table.values.tolist())"
   ]
  },
  {
   "cell_type": "code",
   "execution_count": null,
   "metadata": {},
   "outputs": [],
   "source": []
  },
  {
   "cell_type": "code",
   "execution_count": null,
   "metadata": {},
   "outputs": [],
   "source": []
  },
  {
   "cell_type": "code",
   "execution_count": null,
   "metadata": {},
   "outputs": [],
   "source": []
  },
  {
   "cell_type": "code",
   "execution_count": null,
   "metadata": {},
   "outputs": [],
   "source": []
  },
  {
   "cell_type": "code",
   "execution_count": null,
   "metadata": {},
   "outputs": [],
   "source": []
  },
  {
   "cell_type": "code",
   "execution_count": null,
   "metadata": {},
   "outputs": [],
   "source": []
  },
  {
   "cell_type": "code",
   "execution_count": null,
   "metadata": {},
   "outputs": [],
   "source": []
  },
  {
   "cell_type": "code",
   "execution_count": null,
   "metadata": {},
   "outputs": [],
   "source": []
  },
  {
   "cell_type": "code",
   "execution_count": null,
   "metadata": {},
   "outputs": [],
   "source": []
  },
  {
   "cell_type": "code",
   "execution_count": null,
   "metadata": {},
   "outputs": [],
   "source": []
  },
  {
   "cell_type": "code",
   "execution_count": null,
   "metadata": {},
   "outputs": [],
   "source": []
  },
  {
   "cell_type": "code",
   "execution_count": 57,
   "metadata": {},
   "outputs": [],
   "source": [
    "sql_text=\"select * from family;\"  #SELECT * FROM Information_Schema.TABLES select * from family ;\n",
    "rowdata=read_mysql_table(sql_text,config_read)\n",
    "#rowdata.dtypes rowdata.memory_usage(index=False, deep=True).sum()"
   ]
  },
  {
   "cell_type": "code",
   "execution_count": 67,
   "metadata": {},
   "outputs": [
    {
     "data": {
      "text/plain": [
       "\"\\n#資料整理\\ndata_nosie=rowdata[rowdata['noise_cutoff']>rowdata['noise_cutoff'].mean()]\\ndata_auther=data_nosie[data_nosie['author']=='Griffiths-Jones SR']\\ndata_time=data_auther[data_auther['created']>'2020-09-01 00:00:00']\\n\""
      ]
     },
     "execution_count": 67,
     "metadata": {},
     "output_type": "execute_result"
    }
   ],
   "source": [
    "'''\n",
    "#資料整理\n",
    "data_nosie=rowdata[rowdata['noise_cutoff']>rowdata['noise_cutoff'].mean()]\n",
    "data_auther=data_nosie[data_nosie['author']=='Griffiths-Jones SR']\n",
    "data_time=data_auther[data_auther['created']>'2020-09-01 00:00:00']\n",
    "'''"
   ]
  },
  {
   "cell_type": "code",
   "execution_count": 89,
   "metadata": {},
   "outputs": [],
   "source": [
    "#批量寫入DB中   #ON DUPLICATE KEY UPDATE `c`=VALUES(`a`)+VALUES(`b`)\n",
    "sql_text_write=\"INSERT INTO test_table(rfam_acc, rfam_id, auto_wiki) VALUES (%s,%s,%s) ;\"  #SELECT * FROM Information_Schema.TABLES select * from family ;\n",
    "insert_mysql_table(sql_text_write,save_data.values.tolist())"
   ]
  },
  {
   "cell_type": "code",
   "execution_count": 5,
   "metadata": {},
   "outputs": [],
   "source": [
    "sql_test = 'select * from test_table'\n",
    "data_test_table=read_mysql_table(sql_test,config_insert)"
   ]
  },
  {
   "cell_type": "code",
   "execution_count": 6,
   "metadata": {},
   "outputs": [
    {
     "data": {
      "text/html": [
       "<div>\n",
       "<style scoped>\n",
       "    .dataframe tbody tr th:only-of-type {\n",
       "        vertical-align: middle;\n",
       "    }\n",
       "\n",
       "    .dataframe tbody tr th {\n",
       "        vertical-align: top;\n",
       "    }\n",
       "\n",
       "    .dataframe thead th {\n",
       "        text-align: right;\n",
       "    }\n",
       "</style>\n",
       "<table border=\"1\" class=\"dataframe\">\n",
       "  <thead>\n",
       "    <tr style=\"text-align: right;\">\n",
       "      <th></th>\n",
       "      <th>rfam_acc</th>\n",
       "      <th>rfam_id</th>\n",
       "      <th>auto_wiki</th>\n",
       "    </tr>\n",
       "  </thead>\n",
       "  <tbody>\n",
       "    <tr>\n",
       "      <th>0</th>\n",
       "      <td>RF00001</td>\n",
       "      <td>5S_rRNA</td>\n",
       "      <td>123</td>\n",
       "    </tr>\n",
       "    <tr>\n",
       "      <th>1</th>\n",
       "      <td>RF00002</td>\n",
       "      <td>5_8S_rRNA</td>\n",
       "      <td>123</td>\n",
       "    </tr>\n",
       "    <tr>\n",
       "      <th>2</th>\n",
       "      <td>RF00003</td>\n",
       "      <td>U1</td>\n",
       "      <td>123</td>\n",
       "    </tr>\n",
       "    <tr>\n",
       "      <th>3</th>\n",
       "      <td>RF00004</td>\n",
       "      <td>U2</td>\n",
       "      <td>123</td>\n",
       "    </tr>\n",
       "    <tr>\n",
       "      <th>4</th>\n",
       "      <td>RF00005</td>\n",
       "      <td>tRNA</td>\n",
       "      <td>123</td>\n",
       "    </tr>\n",
       "    <tr>\n",
       "      <th>...</th>\n",
       "      <td>...</td>\n",
       "      <td>...</td>\n",
       "      <td>...</td>\n",
       "    </tr>\n",
       "    <tr>\n",
       "      <th>3440</th>\n",
       "      <td>RF03551</td>\n",
       "      <td>mir-506</td>\n",
       "      <td>123</td>\n",
       "    </tr>\n",
       "    <tr>\n",
       "      <th>3441</th>\n",
       "      <td>RF03552</td>\n",
       "      <td>mir-43_2</td>\n",
       "      <td>123</td>\n",
       "    </tr>\n",
       "    <tr>\n",
       "      <th>3442</th>\n",
       "      <td>RF03553</td>\n",
       "      <td>mir-190_2</td>\n",
       "      <td>123</td>\n",
       "    </tr>\n",
       "    <tr>\n",
       "      <th>3443</th>\n",
       "      <td>RF03554</td>\n",
       "      <td>mir-92_2</td>\n",
       "      <td>123</td>\n",
       "    </tr>\n",
       "    <tr>\n",
       "      <th>3444</th>\n",
       "      <td>RF03555</td>\n",
       "      <td>mir-2_2</td>\n",
       "      <td>123</td>\n",
       "    </tr>\n",
       "  </tbody>\n",
       "</table>\n",
       "<p>3445 rows × 3 columns</p>\n",
       "</div>"
      ],
      "text/plain": [
       "     rfam_acc    rfam_id  auto_wiki\n",
       "0     RF00001    5S_rRNA        123\n",
       "1     RF00002  5_8S_rRNA        123\n",
       "2     RF00003         U1        123\n",
       "3     RF00004         U2        123\n",
       "4     RF00005       tRNA        123\n",
       "...       ...        ...        ...\n",
       "3440  RF03551    mir-506        123\n",
       "3441  RF03552   mir-43_2        123\n",
       "3442  RF03553  mir-190_2        123\n",
       "3443  RF03554   mir-92_2        123\n",
       "3444  RF03555    mir-2_2        123\n",
       "\n",
       "[3445 rows x 3 columns]"
      ]
     },
     "execution_count": 6,
     "metadata": {},
     "output_type": "execute_result"
    }
   ],
   "source": [
    "data_test_table"
   ]
  },
  {
   "cell_type": "code",
   "execution_count": 86,
   "metadata": {},
   "outputs": [],
   "source": [
    "con=pymysql.connect(**config_insert)\n",
    "cursor = con.cursor() \n",
    "# 创建数据库的sql(如果数据库存在就不创建，防止异常)\n",
    "# 创建表\n",
    "sql_2 = '''CREATE TABLE `test_table` (\n",
    "  `rfam_acc` CHAR(20) NOT NULL,\n",
    "  `rfam_id` CHAR(50) NOT NULL,\n",
    "  `auto_wiki` INT NOT NULL,\n",
    "  PRIMARY KEY (`rfam_acc`)\n",
    ") ENGINE=InnoDB DEFAULT CHARSET=utf8;\n",
    "'''\n",
    "cursor.execute(sql_2)\n",
    "con.close()"
   ]
  },
  {
   "cell_type": "code",
   "execution_count": 85,
   "metadata": {},
   "outputs": [],
   "source": [
    "con=pymysql.connect(**config_insert)\n",
    "cursor = con.cursor() \n",
    "# 创建数据库的sql(如果数据库存在就不创建，防止异常)\n",
    "# 创建表\n",
    "sql_2 = \"DROP TABLE IF EXISTS {}\".format('test_table')\n",
    "cursor.execute(sql_2)\n",
    "con.close()"
   ]
  },
  {
   "cell_type": "code",
   "execution_count": 186,
   "metadata": {},
   "outputs": [],
   "source": [
    "con=pymysql.connect(**config_insert)\n",
    "cursor = con.cursor() \n",
    "# 创建数据库的sql(如果数据库存在就不创建，防止异常)\n",
    "# 创建表\n",
    "sql_2 = '''CREATE TABLE `user_table` (\n",
    "  `ad` int NOT NULL,\n",
    "  `name_1` CHAR(20) ,\n",
    "  `name_2` CHAR(20) ,\n",
    "  `name_3` CHAR(20) ,\n",
    "  `name_4` CHAR(20) ,\n",
    "  `ip` CHAR(80) ,\n",
    "  `time` CHAR(20) ,\n",
    "  `country` CHAR(20) ,\n",
    "  `city` CHAR(20) ,\n",
    "  `balance` CHAR(20) ,\n",
    "  `payoff` CHAR(20) ,\n",
    "  `level` CHAR(20) ,\n",
    "  `state_1` CHAR(20) ,\n",
    "  `freez_1` CHAR(20) ,\n",
    "  `stop_1` CHAR(20) ,\n",
    "  `lock_1` CHAR(20) ,\n",
    "  PRIMARY KEY (`ad`)\n",
    ") ENGINE=InnoDB DEFAULT CHARSET=utf8;\n",
    "'''\n",
    "cursor.execute(sql_2)\n",
    "con.close()"
   ]
  },
  {
   "cell_type": "code",
   "execution_count": 185,
   "metadata": {},
   "outputs": [],
   "source": [
    "con=pymysql.connect(**config_insert)\n",
    "cursor = con.cursor() \n",
    "# 创建数据库的sql(如果数据库存在就不创建，防止异常)\n",
    "# 创建表\n",
    "sql_2 = \"DROP TABLE IF EXISTS {}\".format('user_table')\n",
    "cursor.execute(sql_2)\n",
    "con.close()"
   ]
  },
  {
   "cell_type": "code",
   "execution_count": null,
   "metadata": {},
   "outputs": [],
   "source": [
    "con=pymysql.connect(**config_insert)\n",
    "cursor = con.cursor() \n",
    "# 创建数据库的sql(如果数据库存在就不创建，防止异常)\n",
    "# 创建表\n",
    "sql_2 = \"DROP TABLE IF EXISTS {}\".format('accounts')\n",
    "cursor.execute(sql_2)\n",
    "cursor.close()\n",
    "con.close()"
   ]
  },
  {
   "cell_type": "code",
   "execution_count": null,
   "metadata": {},
   "outputs": [],
   "source": []
  },
  {
   "cell_type": "code",
   "execution_count": 30,
   "metadata": {},
   "outputs": [],
   "source": [
    "con=pymysql.connect(**config_insert)\n",
    "cursor = con.cursor() \n",
    "# 创建数据库的sql(如果数据库存在就不创建，防止异常)\n",
    "# 创建表\n",
    "sql_2 = '''CREATE TABLE IF NOT EXISTS `accounts` (\n",
    "    `id` int(11) NOT NULL AUTO_INCREMENT,\n",
    "    `username` varchar(50) NOT NULL,\n",
    "    `password` varchar(255) NOT NULL,\n",
    "    `email` varchar(100) NOT NULL,\n",
    "    PRIMARY KEY (`id`)\n",
    ") ENGINE=InnoDB AUTO_INCREMENT=1 DEFAULT CHARSET=utf8;\n",
    "\n",
    "'''\n",
    "cursor.execute(sql_2)\n",
    "con.close()"
   ]
  },
  {
   "cell_type": "code",
   "execution_count": 42,
   "metadata": {},
   "outputs": [],
   "source": [
    "con=pymysql.connect(**config_insert)\n",
    "cursor = con.cursor() \n",
    "# 创建数据库的sql(如果数据库存在就不创建，防止异常)\n",
    "# 创建表\n",
    "ttt=\"INSERT INTO accounts (username, password, email) VALUES ('torin','123qwe','yywer@gmail.com')\" \n",
    "cursor.execute(ttt)\n",
    "cursor.close()\n",
    "con.close()"
   ]
  },
  {
   "cell_type": "code",
   "execution_count": 43,
   "metadata": {},
   "outputs": [
    {
     "data": {
      "text/html": [
       "<div>\n",
       "<style scoped>\n",
       "    .dataframe tbody tr th:only-of-type {\n",
       "        vertical-align: middle;\n",
       "    }\n",
       "\n",
       "    .dataframe tbody tr th {\n",
       "        vertical-align: top;\n",
       "    }\n",
       "\n",
       "    .dataframe thead th {\n",
       "        text-align: right;\n",
       "    }\n",
       "</style>\n",
       "<table border=\"1\" class=\"dataframe\">\n",
       "  <thead>\n",
       "    <tr style=\"text-align: right;\">\n",
       "      <th></th>\n",
       "      <th>id</th>\n",
       "      <th>username</th>\n",
       "      <th>password</th>\n",
       "      <th>email</th>\n",
       "    </tr>\n",
       "  </thead>\n",
       "  <tbody>\n",
       "    <tr>\n",
       "      <th>0</th>\n",
       "      <td>1</td>\n",
       "      <td>123qwe</td>\n",
       "      <td>123qwe</td>\n",
       "      <td>123qwe@gaskdask.com</td>\n",
       "    </tr>\n",
       "    <tr>\n",
       "      <th>1</th>\n",
       "      <td>4</td>\n",
       "      <td>test</td>\n",
       "      <td>test</td>\n",
       "      <td>test@gnail.com</td>\n",
       "    </tr>\n",
       "  </tbody>\n",
       "</table>\n",
       "</div>"
      ],
      "text/plain": [
       "   id username password                email\n",
       "0   1   123qwe   123qwe  123qwe@gaskdask.com\n",
       "1   4     test     test       test@gnail.com"
      ]
     },
     "execution_count": 43,
     "metadata": {},
     "output_type": "execute_result"
    }
   ],
   "source": [
    "con=pymysql.connect(**config_insert) #打开数据库连接\n",
    "df = pd.read_sql('select * from accounts ', con)\n",
    "con.close()\n",
    "df"
   ]
  },
  {
   "cell_type": "code",
   "execution_count": null,
   "metadata": {},
   "outputs": [],
   "source": []
  }
 ],
 "metadata": {
  "kernelspec": {
   "display_name": "Python 3",
   "language": "python",
   "name": "python3"
  },
  "language_info": {
   "codemirror_mode": {
    "name": "ipython",
    "version": 3
   },
   "file_extension": ".py",
   "mimetype": "text/x-python",
   "name": "python",
   "nbconvert_exporter": "python",
   "pygments_lexer": "ipython3",
   "version": "3.8.5"
  }
 },
 "nbformat": 4,
 "nbformat_minor": 4
}
