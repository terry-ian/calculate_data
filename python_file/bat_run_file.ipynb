{
 "cells": [
  {
   "cell_type": "code",
   "execution_count": 1,
   "metadata": {},
   "outputs": [],
   "source": [
    "import os\n",
    "import telepot\n",
    "import time"
   ]
  },
  {
   "cell_type": "code",
   "execution_count": 2,
   "metadata": {},
   "outputs": [],
   "source": [
    "#參數\n",
    "#warning message \n",
    "tele_warning_chatid='-418327801'\n",
    "tele_warning_token='1020859504:AAEb-tLbaBjJvJqBsLCzCsStrgTlZNqXRR8'\n",
    "\n",
    "#執行cmd指令\n",
    "def run_python_file(cmdtext,bankname,bankcode):\n",
    "    ret=os.system(cmdtext)\n",
    "    if ret!=0 : telebot_send_error(bankname,bankcode)\n",
    "#各排程执行\n",
    "def telebot_send_error(bank_name,bank_code):\n",
    "    bot = telepot.Bot(token=tele_warning_token)\n",
    "    bot.sendMessage(chat_id=tele_warning_chatid ,text= bank_name+'-程序执行有误log档案如下:')\n",
    "    bot.sendDocument(chat_id=tele_warning_chatid , document= open(\"F:\\\\Desktop\\\\download_csv\\\\\"+bank_code+\".log\", \"r\",encoding = 'utf-8'))\n",
    "#完成今日爬虫作业\n",
    "def telebot_finish():\n",
    "    timenow=time.strftime(\"%Y-%m-%d %H:%M:%S\", time.localtime()) \n",
    "    bot = telepot.Bot(token=tele_warning_token)\n",
    "    bot.sendMessage(chat_id=tele_warning_chatid ,text= timenow+' - 美東時間計算完成')"
   ]
  },
  {
   "cell_type": "code",
   "execution_count": null,
   "metadata": {},
   "outputs": [],
   "source": [
    "#畫圖\n",
    "run_python_file(\"F:\\\\Desktop\\\\pythontest\\\\python F:\\\\Desktop\\\\excuter\\\\request_data-plot-eastern.py > F:\\\\Desktop\\\\download_csv\\\\plot.log 2>&1\" ,'美東畫圖','plot' )\n",
    "time.sleep(1)\n",
    "\n",
    "#載檔案\n",
    "run_python_file(\"F:\\\\Desktop\\\\pythontest\\\\python F:\\\\Desktop\\\\excuter\\\\download_csv.py > F:\\\\Desktop\\\\download_csv\\\\download.log 2>&1\" ,'下載檔案','download' )\n",
    "time.sleep(1)\n",
    "\n",
    "#計算輸出\n",
    "run_python_file(\"F:\\\\Desktop\\\\pythontest\\\\python F:\\\\Desktop\\\\excuter\\\\pay_count.py > F:\\\\Desktop\\\\download_csv\\\\calculate.log 2>&1\" ,'計算檔案','calculate')\n",
    "time.sleep(1)"
   ]
  },
  {
   "cell_type": "code",
   "execution_count": 3,
   "metadata": {},
   "outputs": [],
   "source": [
    "telebot_finish()"
   ]
  },
  {
   "cell_type": "code",
   "execution_count": null,
   "metadata": {},
   "outputs": [],
   "source": []
  }
 ],
 "metadata": {
  "kernelspec": {
   "display_name": "Python 3",
   "language": "python",
   "name": "python3"
  },
  "language_info": {
   "codemirror_mode": {
    "name": "ipython",
    "version": 3
   },
   "file_extension": ".py",
   "mimetype": "text/x-python",
   "name": "python",
   "nbconvert_exporter": "python",
   "pygments_lexer": "ipython3",
   "version": "3.8.5"
  }
 },
 "nbformat": 4,
 "nbformat_minor": 4
}
