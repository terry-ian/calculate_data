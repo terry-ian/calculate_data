{
 "cells": [
  {
   "cell_type": "code",
   "execution_count": 7,
   "metadata": {},
   "outputs": [],
   "source": [
    "# pip install SkPy\n",
    "from skpy import Skype"
   ]
  },
  {
   "cell_type": "code",
   "execution_count": 8,
   "metadata": {},
   "outputs": [],
   "source": [
    "sk = Skype('troy30222@gmail.com' , 'sancho130222')"
   ]
  },
  {
   "cell_type": "code",
   "execution_count": 13,
   "metadata": {},
   "outputs": [
    {
     "data": {
      "text/plain": [
       "SkypeTextMsg(id='1608284888437', type='Text', time=datetime.datetime(2020, 12, 18, 17, 48, 8, 439000), clientId='1608284888438', userId='live:.cid.3ad6316fc2604f34', chatId='19:4f608eb0d3564058911ccc1961edd76a@thread.skype', content='test')"
      ]
     },
     "execution_count": 13,
     "metadata": {},
     "output_type": "execute_result"
    }
   ],
   "source": [
    "sk.chats.chat('19:4f608eb0d3564058911ccc1961edd76a@thread.skype').sendMsg('test')"
   ]
  },
  {
   "cell_type": "code",
   "execution_count": null,
   "metadata": {},
   "outputs": [],
   "source": [
    "#sk.chats.recent() "
   ]
  },
  {
   "cell_type": "code",
   "execution_count": null,
   "metadata": {},
   "outputs": [],
   "source": []
  },
  {
   "cell_type": "code",
   "execution_count": 39,
   "metadata": {},
   "outputs": [],
   "source": [
    "import shutil \n",
    "import os\n",
    "import time\n",
    "try:\n",
    "    shutil.rmtree('F:\\\\Desktop\\\\download_csv_copy')  \n",
    "    time.sleep(3)\n",
    "    shutil.copytree('F:\\\\Desktop\\\\download_csv', 'F:\\\\Desktop\\\\download_csv_copy', symlinks=False, ignore=None)\n",
    "    #shutil.copyfile( \"F:\\\\Desktop\\\\download_csv\", \"F:\\\\Desktop\\\\download_csv_copy\" )\n",
    "    time.sleep(3)\n",
    "    shutil.rmtree('F:\\Desktop\\download_csv')  \n",
    "    time.sleep(3)\n",
    "    os.mkdir('F:\\Desktop\\download_csv')     \n",
    "except OSError as e:\n",
    "    print(f\"Error:{ e.strerror}\")"
   ]
  },
  {
   "cell_type": "code",
   "execution_count": 4,
   "metadata": {},
   "outputs": [],
   "source": [
    "os.mkdir('F:\\Desktop\\download_csv')     "
   ]
  },
  {
   "cell_type": "code",
   "execution_count": null,
   "metadata": {},
   "outputs": [],
   "source": []
  },
  {
   "cell_type": "code",
   "execution_count": 32,
   "metadata": {},
   "outputs": [],
   "source": [
    "try:\n",
    "    os.system(\"taskkill /im firefox.exe\")\n",
    "except :\n",
    "    print('all kill')"
   ]
  },
  {
   "cell_type": "code",
   "execution_count": null,
   "metadata": {},
   "outputs": [],
   "source": []
  },
  {
   "cell_type": "code",
   "execution_count": null,
   "metadata": {},
   "outputs": [],
   "source": [
    "#投注資料\n",
    "session_requests = requests.session()\n",
    "response = session_requests.request('PUT',url=LOGIN_URL, data=payload, headers=headers)\n",
    "ttt = session_requests.get(\"https://yb01.88lard.com/api/v1/stats/agents/wager_report?canceled=0&start_settle_at=\"+str(ddd)+\"T00%3A00%3A00-04%3A00&end_settle_at=\"+str(ddd)+\"T23%3A59%3A59-04%3A00&timeOption=settleAt&currency=&to_CNY=true&specify=0&=&=&=&parentOption=all&first_result=0&max_results=20\" , headers=headers )\n",
    "output_data=ttt.json()['ret']\n",
    "ag_count=pd.DataFrame(output_data)['parent_id']\n",
    "\n",
    "emptyalldata= pd.DataFrame(columns=['user_id','username','valid_bet','payoff','counts'])\n",
    "for j in ag_count:\n",
    "    list_data_all=[]\n",
    "    for i in range(0, 5000,1000) :   \n",
    "        ttt = session_requests.get(\"https://yb01.88lard.com/api/v1/stats/agent/\"+str(j)+\"/children/wager_report?start_settle_at=\"+str(ddd)+\"T00%3A00%3A00-04%3A00&end_settle_at=\"+str(ddd)+\"T23%3A59%3A59-04%3A00&canceled=0&first_result=\"+str(i)+\"&max_results=1000&currency=&to_CNY=true\" , headers=headers )\n",
    "        output_data=ttt.json()['ret']\n",
    "        list_data_all=list_data_all+output_data\n",
    "    usertotal_count=pd.DataFrame(list_data_all)[['user_id','username','valid_bet','payoff','counts']]\n",
    "    emptyalldata=emptyalldata.append(usertotal_count)\n",
    "\n",
    "user_count_bet=emptyalldata['user_id'].nunique()\n",
    "valid_bet=sum(round(emptyalldata['valid_bet'].astype('float'),2))\n",
    "payoff=sum(round(emptyalldata['payoff'].astype('float'),2))\n",
    "wager=sum(round(emptyalldata['counts'].astype('float'),2))"
   ]
  }
 ],
 "metadata": {
  "kernelspec": {
   "display_name": "Python 3",
   "language": "python",
   "name": "python3"
  },
  "language_info": {
   "codemirror_mode": {
    "name": "ipython",
    "version": 3
   },
   "file_extension": ".py",
   "mimetype": "text/x-python",
   "name": "python",
   "nbconvert_exporter": "python",
   "pygments_lexer": "ipython3",
   "version": "3.8.5"
  }
 },
 "nbformat": 4,
 "nbformat_minor": 4
}
