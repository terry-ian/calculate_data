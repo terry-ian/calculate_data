{
 "cells": [
  {
   "cell_type": "code",
   "execution_count": 147,
   "metadata": {},
   "outputs": [],
   "source": [
    "import requests\n",
    "import telepot\n",
    "import datetime"
   ]
  },
  {
   "cell_type": "code",
   "execution_count": 148,
   "metadata": {},
   "outputs": [],
   "source": [
    "LOGIN_URL = 'https://yb01.88lard.com/api/v1/manager/login'\n",
    "headers = {\n",
    "            'User-Agent': 'Mozilla/5.0 (Windows NT 10.0; Win64; x64) AppleWebKit/537.36 (KHTML, like Gecko) Chrome/84.0.4147.89 Safari/537.36',\n",
    "            }\n",
    "payload = {\n",
    "    'username': 'bbtorin',\n",
    "    'password': 'qwe123',\n",
    "}"
   ]
  },
  {
   "cell_type": "code",
   "execution_count": 149,
   "metadata": {},
   "outputs": [
    {
     "name": "stdout",
     "output_type": "stream",
     "text": [
      "<Response [200]>\n"
     ]
    }
   ],
   "source": [
    "#發送請求\n",
    "session_requests = requests.session()\n",
    "#url = 'https://yb01.88lard.com/api/v1/customer_service/has/grant/login'\n",
    "response = session_requests.request('PUT',url=LOGIN_URL, data=payload, headers=headers)\n",
    "print(response)\n",
    "ddd=(datetime.datetime.now() - datetime.timedelta(hours=12)).strftime(\"%Y-%m-%d\") \n",
    "#\"https://yb01.88lard.com/api/v1/stats/daily_report?start_at=\"+ddd+\"T00%3A00%3A00-04%3A00&end_at=\"+ddd+\"T23%3A59%3A59-04%3A00\"\n",
    "#https://yb01.88lard.com/api/v1/stats/users/summary"
   ]
  },
  {
   "cell_type": "code",
   "execution_count": 150,
   "metadata": {},
   "outputs": [],
   "source": [
    "ttt = session_requests.get(\"https://yb01.88lard.com/api/v1/stats/daily_report?start_at=\"+ddd+\"T00%3A00%3A00-04%3A00&end_at=\"+ddd+\"T23%3A59%3A59-04%3A00\" ,headers=headers)"
   ]
  },
  {
   "cell_type": "code",
   "execution_count": 151,
   "metadata": {},
   "outputs": [],
   "source": [
    "ttt_bet = session_requests.get(\"https://yb01.88lard.com/api/v1/stats/agents/wager_report?canceled=0&start_settle_at=\"+ddd+\"T00%3A00%3A00-04%3A00&end_settle_at=\"+ddd+\"T23%3A59%3A59-04%3A00&timeOption=settleAt&currency=&to_CNY=true&specify=0&=&=&=&parentOption=all&first_result=0&max_results=5\" ,headers=headers)"
   ]
  },
  {
   "cell_type": "code",
   "execution_count": 152,
   "metadata": {},
   "outputs": [],
   "source": [
    "ttt_deposite = session_requests.get(\"https://yb01.88lard.com/api/v1/wallet/invoice/list?submit_start=\"+ddd+\"T00%3A00%3A00-04%3A00&submit_end=\"+ddd+\"T23%3A59%3A59-04%3A00&first_result=0&max_results=5\" ,headers=headers)"
   ]
  },
  {
   "cell_type": "code",
   "execution_count": 153,
   "metadata": {},
   "outputs": [],
   "source": [
    "def send_telegrame():\n",
    "    tele_chatid=['-408673375']         #测试 -451149494   #正式 -空 \n",
    "    tele_token='1020859504:AAEb-tLbaBjJvJqBsLCzCsStrgTlZNqXRR8'\n",
    "    bot = telepot.Bot(tele_token)\n",
    "    bot.sendMessage(chat_id=tele_chatid[0],\n",
    "        text= '美東時間 : '+ str(delay_oneday) +'時'+ \"\\n\" +\n",
    "              '註冊人數 : '+ str(player) + \"\\n\" +\n",
    "              '派彩 : '+ str(payoff) + \"\\n\" +\n",
    "              '有效投注金額 : '+ str(valid_bet) + \"\\n\" +\n",
    "              '有效投注人數 : '+ str(user_count_bet) + \"\\n\" +\n",
    "              '存款金額 : '+ str(deposit) + \"\\n\" +\n",
    "              '存提差 : '+ str(deposit-withdraw) + \"\\n\" +\n",
    "              '充值人數 : '+ str(user_count_dep) + \"\\n\"    \n",
    "              )"
   ]
  },
  {
   "cell_type": "code",
   "execution_count": 154,
   "metadata": {},
   "outputs": [],
   "source": [
    "#獲取訊息\n",
    "player=int(str(ttt.json()['ret'][ddd]['player']).replace(\"None\",'0'))\n",
    "valid_bet=round(float(str(ttt.json()['ret'][ddd]['valid_bet']).replace(\"None\",'0')),1)\n",
    "payoff=round(float(str(ttt.json()['ret'][ddd]['payoff']).replace(\"None\",'0'))*-1,1)\n",
    "deposit_first=int(str(ttt.json()['ret'][ddd]['deposit_first']).replace(\"None\",'0'))\n",
    "deposit=float(str(ttt.json()['ret'][ddd]['deposit']).replace(\"None\",'0'))\n",
    "withdraw=float(str(ttt.json()['ret'][ddd]['withdraw']).replace(\"None\",'0'))\n",
    "profit_ratio=round(float(str(ttt.json()['ret'][ddd]['profit_ratio']).replace(\"None\",'0')),2)\n",
    "#total_balance=round(float(str(ttt.json()['ret'][ddd]['total_balance']).replace(\"None\",'0')),1)\n",
    "\n",
    "user_count_bet=str(ttt_bet.json()['total']['user_count']).replace(\"NaN\",'0')\n",
    "user_count_dep=str(ttt_deposite.json()['status_total']['pass']['user_count']).replace(\"None\",'0')\n",
    "#時間\n",
    "delay_oneday = (datetime.datetime.now() - datetime.timedelta(hours=12)).strftime(\"%Y-%m-%d, %H\") \n",
    "#傳送到TG\n",
    "send_telegrame()"
   ]
  },
  {
   "cell_type": "code",
   "execution_count": 155,
   "metadata": {},
   "outputs": [
    {
     "data": {
      "text/plain": [
       "SkypeTextMsg(id='1608527816068', type='Text', time=datetime.datetime(2020, 12, 21, 13, 16, 56, 57000), clientId='1608527816006', userId='live:.cid.3ad6316fc2604f34', chatId='19:4f608eb0d3564058911ccc1961edd76a@thread.skype', content='美東時間 : 2020-12-21, 01時\\n註冊人數 : 846\\n派彩 : 788.9\\n有效投注金額 : 1119875.2\\n有效投注人數 : 321\\n存款金額 : 157913.0\\n存提差 : 25439.0\\n充值人數 : 120\\n')"
      ]
     },
     "execution_count": 155,
     "metadata": {},
     "output_type": "execute_result"
    }
   ],
   "source": [
    "from skpy import Skype\n",
    "sk = Skype('troy30222@gmail.com' , 'sancho130222')\n",
    "sk.chats.chat('19:4f608eb0d3564058911ccc1961edd76a@thread.skype').sendMsg(\n",
    "'美東時間 : '+ str(delay_oneday) +'時'+ \"\\n\" +\n",
    "'註冊人數 : '+ str(player) + \"\\n\" +\n",
    "'派彩 : '+ str(payoff) + \"\\n\" +\n",
    "'有效投注金額 : '+ str(valid_bet) + \"\\n\" +\n",
    "'有效投注人數 : '+ str(user_count_bet) + \"\\n\" +\n",
    "'存款金額 : '+ str(deposit) + \"\\n\" +\n",
    "'存提差 : '+ str(deposit-withdraw) + \"\\n\" +\n",
    "'充值人數 : '+ str(user_count_dep) + \"\\n\" \n",
    ")"
   ]
  },
  {
   "cell_type": "code",
   "execution_count": 156,
   "metadata": {},
   "outputs": [
    {
     "data": {
      "text/plain": [
       "'\\ndef send_telegrame():\\n    tele_chatid=[\\'-408673375\\']         #测试 -451149494   #正式 -空 \\n    tele_token=\\'1020859504:AAEb-tLbaBjJvJqBsLCzCsStrgTlZNqXRR8\\'\\n    bot = telepot.Bot(tele_token)\\n    bot.sendMessage(chat_id=tele_chatid[0],\\n                text= \\'美東時間 : \\'+ str(delay_oneday) +\\'時\\'+ \"\\n\" +\\n                \\'註冊人數 : \\'+ str(player) + \"\\n\" +\\n                \\'投注總人數 : \\'+ str(user_count_bet) + \"\\n\" +\\n                \\'有效投注金額 : \\'+ str(valid_bet) + \"\\n\" +\\n                \\'損益 : \\'+ str(payoff) + \"\\n\" +\\n                \\'首存人數 : \\'+ str(deposit_first) + \"\\n\" +\\n                \\'存款人數 : \\'+ str(user_count_dep) + \"\\n\" +\\n                \\'存款總額 : \\'+ str(deposit) + \"\\n\" +\\n                \\'取款總額 : \\'+ str(withdraw) + \"\\n\" +\\n                \\'總餘額 : \\'+ str(total_balance) + \"\\n\" +\\n                \\'獲利比(損益/有效投注) : \\'+ str(profit_ratio) +\\'%\\'+ \"\\n\"   \\n                )\\n'"
      ]
     },
     "execution_count": 156,
     "metadata": {},
     "output_type": "execute_result"
    }
   ],
   "source": [
    "'''\n",
    "def send_telegrame():\n",
    "    tele_chatid=['-408673375']         #测试 -451149494   #正式 -空 \n",
    "    tele_token='1020859504:AAEb-tLbaBjJvJqBsLCzCsStrgTlZNqXRR8'\n",
    "    bot = telepot.Bot(tele_token)\n",
    "    bot.sendMessage(chat_id=tele_chatid[0],\n",
    "                text= '美東時間 : '+ str(delay_oneday) +'時'+ \"\\n\" +\n",
    "                '註冊人數 : '+ str(player) + \"\\n\" +\n",
    "                '投注總人數 : '+ str(user_count_bet) + \"\\n\" +\n",
    "                '有效投注金額 : '+ str(valid_bet) + \"\\n\" +\n",
    "                '損益 : '+ str(payoff) + \"\\n\" +\n",
    "                '首存人數 : '+ str(deposit_first) + \"\\n\" +\n",
    "                '存款人數 : '+ str(user_count_dep) + \"\\n\" +\n",
    "                '存款總額 : '+ str(deposit) + \"\\n\" +\n",
    "                '取款總額 : '+ str(withdraw) + \"\\n\" +\n",
    "                '總餘額 : '+ str(total_balance) + \"\\n\" +\n",
    "                '獲利比(損益/有效投注) : '+ str(profit_ratio) +'%'+ \"\\n\"   \n",
    "                )\n",
    "'''"
   ]
  },
  {
   "cell_type": "code",
   "execution_count": null,
   "metadata": {},
   "outputs": [],
   "source": []
  }
 ],
 "metadata": {
  "kernelspec": {
   "display_name": "Python 3",
   "language": "python",
   "name": "python3"
  },
  "language_info": {
   "codemirror_mode": {
    "name": "ipython",
    "version": 3
   },
   "file_extension": ".py",
   "mimetype": "text/x-python",
   "name": "python",
   "nbconvert_exporter": "python",
   "pygments_lexer": "ipython3",
   "version": "3.8.5"
  }
 },
 "nbformat": 4,
 "nbformat_minor": 4
}
