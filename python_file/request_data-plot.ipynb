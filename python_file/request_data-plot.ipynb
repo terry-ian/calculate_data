{
 "cells": [
  {
   "cell_type": "code",
   "execution_count": 1,
   "metadata": {},
   "outputs": [],
   "source": [
    "import requests\n",
    "import telepot\n",
    "import datetime\n",
    "import pandas as pd\n",
    "import numpy as np\n",
    "import json\n",
    "\n",
    "import selenium\n",
    "from selenium import webdriver\n",
    "from selenium.webdriver.firefox.options import Options\n",
    "from selenium.webdriver.firefox.firefox_binary import FirefoxBinary\n",
    "import time\n",
    "from selenium.webdriver.common.desired_capabilities import DesiredCapabilities\n",
    "from selenium.webdriver.common.action_chains import ActionChains\n",
    "\n",
    "import plotly\n",
    "import plotly.graph_objs as go\n",
    "import plotly.express as px"
   ]
  },
  {
   "cell_type": "code",
   "execution_count": 2,
   "metadata": {},
   "outputs": [],
   "source": [
    "#登入訊息\n",
    "user_agent = \"Mozilla/5.0 (Macintosh; Intel Mac OS X 10_13_6) AppleWebKit/605.1.15 (KHTML, like Gecko) Version/12.0.3 Safari/605.1.15\"\n",
    "profile = webdriver.FirefoxProfile()\n",
    "profile.set_preference(\"general.useragent.override\", user_agent)\n",
    "#帳號密碼\n",
    "username=\"bbtorin\"\n",
    "passwd=\"qwe123\"\n",
    "nowtime = datetime.datetime.now().strftime(\"%Y-%m-%d %H:%M:%S\")"
   ]
  },
  {
   "cell_type": "code",
   "execution_count": 3,
   "metadata": {},
   "outputs": [],
   "source": [
    "def log_in_web(login_url):\n",
    "    #登入頁面\n",
    "    fp = webdriver.FirefoxProfile()\n",
    "    fp.set_preference(\"browser.download.folderList\", 2) # 0 means to download to the desktop, 1 means to download to the default \"Downloads\" directory, 2 means to use the directory \n",
    "    fp.set_preference(\"browser.helperApps.neverAsk.saveToDisk\", \"text/plain,text/x-csv,text/csv,application/vnd.ms-excel,application/csv,application/x-csv,text/csv,text/comma-separated-values,text/x-comma-separated-values,text/tab-separated-values,application/pdf\")\n",
    "    fp.set_preference(\"browser.download.manager.showWhenStarting\",False)\n",
    "    fp.set_preference(\"browser.helperApps.neverAsk.openFile\",\"text/plain,text/x-csv,text/csv,application/vnd.ms-excel,application/csv,application/x-csv,text/csv,text/comma-separated-values,text/x-comma-separated-values,text/tab-separated-values,application/pdf\")\n",
    "    fp.set_preference(\"browser.helperApps.alwaysAsk.force\", False)\n",
    "    fp.set_preference(\"browser.download.manager.useWindow\", False)\n",
    "    fp.set_preference(\"browser.download.manager.focusWhenStarting\", False)\n",
    "    fp.set_preference(\"browser.helperApps.neverAsk.openFile\", \"\")\n",
    "    fp.set_preference(\"browser.download.manager.alertOnEXEOpen\", False)\n",
    "    fp.set_preference(\"browser.download.manager.showAlertOnComplete\", False)\n",
    "    fp.set_preference(\"browser.download.manager.closeWhenDone\", True)\n",
    "    fp.set_preference(\"browser.download.dir\", \"F:\\Desktop\\download_csv\") \n",
    "    options = Options()\n",
    "    options.add_argument('--headless')\n",
    "    options.binary = FirefoxBinary(r'C:\\Program Files\\Mozilla Firefox\\firefox.exe')\n",
    "    browser = webdriver.Firefox(executable_path=r'F:\\Desktop\\python_code\\geckodriver.exe', options=options,firefox_profile = fp)\n",
    "    browser.maximize_window()\n",
    "    browser.get(login_url)\n",
    "    time.sleep(3)\n",
    "    elem=browser.find_element_by_name(\"username\")\n",
    "    elem.send_keys(username)\n",
    "    elem=browser.find_element_by_name(\"password\")\n",
    "    elem.send_keys(passwd)\n",
    "    elem=browser.find_element_by_class_name(\"ui.large.fluid.button.submit\")\n",
    "    elem.click()\n",
    "    time.sleep(3)\n",
    "    \n",
    "    #點選進入迅付\n",
    "    browser.find_element_by_class_name('item.sidebar-tab.extension-menu').click()\n",
    "    time.sleep(1)\n",
    "    browser.find_element_by_xpath('//div[@class=\"sidebar-text\"][text()=\"迅付\"]').click() \n",
    "    time.sleep(1) \n",
    "    \n",
    "    #換分頁\n",
    "    browser1=browser.window_handles[1]\n",
    "    time.sleep(1)\n",
    "    browser.switch_to_window(browser1) \n",
    "    time.sleep(1)\n",
    "    \n",
    "    #抵達會員入款訊息 \n",
    "    time.sleep(5)\n",
    "    browser.find_element_by_xpath('//*[@id=\"site-container\"]/nav/div[2]/div[1]/div[2]/div/ul/li[5]/div/div[1]/a').click()\n",
    "    time.sleep(2)\n",
    "    browser.find_element_by_xpath('//*[@id=\"site-content\"]/div/div[1]/button[3]').click()\n",
    "    \n",
    "    #获取浏览器cookies\n",
    "    cookies = browser.get_cookies()  \n",
    "    payid=cookies[0]['value']\n",
    "    \n",
    "    #關閉瀏覽器\n",
    "    browser.close()\n",
    "    time.sleep(1)\n",
    "    browser.switch_to_window(browser.window_handles[0]) \n",
    "    time.sleep(1)\n",
    "    browser.close()\n",
    "    \n",
    "    return(payid)"
   ]
  },
  {
   "cell_type": "code",
   "execution_count": 4,
   "metadata": {},
   "outputs": [
    {
     "name": "stderr",
     "output_type": "stream",
     "text": [
      "<ipython-input-3-6e425c33677a>:40: DeprecationWarning: use driver.switch_to.window instead\n",
      "  browser.switch_to_window(browser1)\n",
      "<ipython-input-3-6e425c33677a>:56: DeprecationWarning: use driver.switch_to.window instead\n",
      "  browser.switch_to_window(browser.window_handles[0])\n"
     ]
    }
   ],
   "source": [
    "#獲取cookies id\n",
    "payid=log_in_web('https://yb01.88lard.com/')"
   ]
  },
  {
   "cell_type": "code",
   "execution_count": 5,
   "metadata": {},
   "outputs": [],
   "source": [
    "#登入訊息\n",
    "headers = {\n",
    "'cookie': 'lang=zh-cn; payid='+payid,\n",
    "#'referer': weblink,\n",
    "'user-agent': 'Mozilla/5.0 (Windows NT 10.0; Win64; x64) AppleWebKit/537.36 (KHTML, like Gecko) Chrome/84.0.4147.89 Safari/537.36'\n",
    "} \n",
    "#北京時間\n",
    "ddd=(datetime.datetime.now() - datetime.timedelta(days=1)).strftime(\"%Y-%m-%d\")  #hours=12\n",
    "\n",
    "#抓取更動\n",
    "session_requests = requests.session()\n",
    "ttt = session_requests.get(\"https://a.inpay-pro.com/api/trade/v1/monitor/account_log?created_at_start=\"+ddd+\"T00%3A00%3A00%2B0800&created_at_end=\"+ddd+\"T23%3A59%3A59%2B0800&vendor_id=81&purpose=payment&first_result=0&max_results=200&sort=created_at&order=desc\" , headers=headers )\n",
    "#抓取上限下限                  \n",
    "ttt222 = session_requests.get(\"https://a.inpay-pro.com/api/trade/v1/merchant/deposit/list?first_result=0&max_results=200&sort=id&order=asc\" , headers=headers )\n",
    "\n",
    "list_data_all_f=[]\n",
    "for i in range(0, 10000, 1000) :   \n",
    "    ttt333 = session_requests.get(\"https://a.inpay-pro.com/api/trade/v1/deposit/entry/list?created_at_start=\"+ddd+\"T00%3A00%3A00%2B0800&created_at_end=\"+ddd+\"T23%3A59%3A59%2B0800&sort=id&order=desc&first_result=\"+str(i)+\"&max_results=1000\" , headers=headers )\n",
    "    output_data_f=ttt333.json()['ret']\n",
    "    list_data_all_f=list_data_all_f+output_data_f\n",
    "\n",
    "list_data_all_s=[]\n",
    "for i in range(0, 10000, 1000) :   \n",
    "    ttt444 = session_requests.get(\"https://a.inpay-pro.com/api/trade/v1/deposit/entry/list?state_at_start=\"+ddd+\"T00%3A00%3A00%2B0800&state_at_end=\"+ddd+\"T23%3A59%3A59%2B0800&sort=id&order=desc&first_result=\"+str(i)+\"&max_results=1000\" , headers=headers )\n",
    "    output_data_s=ttt444.json()['ret']\n",
    "    list_data_all_s=list_data_all_s+output_data_s\n",
    "\n",
    "all_channel=pd.DataFrame(list_data_all_f)[['merchant_alias','bank_name']]\n",
    "all_channel=all_channel[all_channel['merchant_alias'] != '代客充值-鸭脖银行卡支援']\n",
    "all_channel=pd.DataFrame(all_channel.groupby(['merchant_alias', 'bank_name']).size().reset_index().rename(columns={\"size\": \"total_count\"}))\n",
    "all_channel.columns = ['Resource','bank_name','total_count']\n",
    "all_channel=all_channel[['Resource','bank_name']]\n",
    "\n",
    "df_data=pd.DataFrame(ttt.json()['ret'])\n",
    "df_data=df_data[['alias','status','created_at']]\n",
    "name_list=np.unique(df_data['alias'])"
   ]
  },
  {
   "cell_type": "code",
   "execution_count": 8,
   "metadata": {},
   "outputs": [],
   "source": [
    "emptylist= pd.DataFrame(columns=['Resource','Start','Finish'])\n",
    "\n",
    "for j in name_list :\n",
    "    test_data=df_data[df_data['alias']==j].sort_index(axis=0, ascending=False)\n",
    "    data_len=test_data.shape[0]\n",
    "    for i in range(data_len):\n",
    "        if test_data['status'].iloc[0]=='disable' or test_data['status'].iloc[0]=='suspend':\n",
    "            if i == 0 :\n",
    "                emptylist=emptylist.append({\"Resource\":test_data['alias'].iloc[0],\"Start\":ddd+'T00:00:00+0800', \"Finish\":test_data['created_at'].iloc[0]},ignore_index=True)\n",
    "            if test_data['status'].iloc[i]=='disable' and test_data['status'].iloc[i]=='suspend':\n",
    "                continue\n",
    "            if test_data['status'].iloc[i] == 'enable' and i != data_len-1: \n",
    "                emptylist=emptylist.append({\"Resource\":test_data['alias'].iloc[0],\"Start\":test_data['created_at'].iloc[i], \"Finish\":test_data['created_at'].iloc[i+1]},ignore_index=True)\n",
    "            if i == data_len-1 and test_data['status'].iloc[i] == 'enable':\n",
    "                emptylist=emptylist.append({\"Resource\":test_data['alias'].iloc[0],\"Start\":test_data['created_at'].iloc[i], \"Finish\":ddd+'T23:59:59+0800'},ignore_index=True)\n",
    "\n",
    "    \n",
    "        if test_data['status'].iloc[0]=='enable':\n",
    "            if i == 0 and i != data_len-1:\n",
    "                emptylist=emptylist.append({\"Resource\":test_data['alias'].iloc[0],\"Start\":test_data['created_at'].iloc[i], \"Finish\":test_data['created_at'].iloc[i+1]},ignore_index=True)\n",
    "            if test_data['status'].iloc[i]=='disable' and test_data['status'].iloc[i]=='suspend':\n",
    "                continue\n",
    "            if test_data['status'].iloc[i] == 'enable' and i != data_len-1 and i != 0: \n",
    "                emptylist=emptylist.append({\"Resource\":test_data['alias'].iloc[0],\"Start\":test_data['created_at'].iloc[i], \"Finish\":test_data['created_at'].iloc[i+1]},ignore_index=True)\n",
    "            if i == data_len-1 and test_data['status'].iloc[i] == 'enable':\n",
    "                emptylist=emptylist.append({\"Resource\":test_data['alias'].iloc[0],\"Start\":test_data['created_at'].iloc[i], \"Finish\":ddd+'T23:59:59+0800'},ignore_index=True)\n"
   ]
  },
  {
   "cell_type": "code",
   "execution_count": 9,
   "metadata": {},
   "outputs": [],
   "source": [
    "emptylist['time_open'] = pd.to_datetime(emptylist['Finish'])-pd.to_datetime(emptylist['Start'])\n",
    "final_data=pd.DataFrame(emptylist.groupby(by=['Resource']).agg({'time_open': ['count','sum']})).reset_index().rename(columns={ \"count\": \"total_count\",\"sum\": \"total_time\"})\n",
    "final_data.columns = ['Resource', 'total_count', 'total_time']"
   ]
  },
  {
   "cell_type": "code",
   "execution_count": 10,
   "metadata": {},
   "outputs": [],
   "source": [
    "#合併通道金額大小\n",
    "df_min_max=pd.DataFrame(ttt222.json()['ret'])[['alias','per_trade_min','per_trade_max']]\n",
    "df_min_max.columns =  ['Resource', 'per_trade_min', 'per_trade_max'] \n",
    "df_finaldata=pd.merge(all_channel,final_data,on = 'Resource',how = 'outer')\n",
    "df_finaldata=pd.merge(df_finaldata,df_min_max,on = 'Resource',how = 'left')\n",
    "\n",
    "#處理空缺的細項\n",
    "df_finaldata['total_count']=df_finaldata['total_count'].fillna(1)\n",
    "df_finaldata['total_time']=df_finaldata['total_time'].fillna('1 days 00:00:00')\n",
    "df_finaldata=df_finaldata.fillna('銀行卡系列')\n",
    "\n",
    "#list_data_all_s list_data_all_f\n",
    "df_data_s=pd.DataFrame(list_data_all_s)[['merchant_alias','user_id','level_name','confirm','amount']]\n",
    "df_data_f=pd.DataFrame(list_data_all_f)[['merchant_alias','user_id','level_name','confirm']]\n",
    "\n",
    "#排除測試和代客\n",
    "df_data_s=df_data_s[(df_data_s['merchant_alias'] != '代客充值-鸭脖银行卡支援') & (df_data_s['level_name'] != '測試帳號') & (df_data_s['confirm'] == True)]\n",
    "df_data_f=df_data_f[(df_data_f['merchant_alias'] != '代客充值-鸭脖银行卡支援') & (df_data_f['level_name'] != '測試帳號') & (df_data_f['confirm'] == False)] \n",
    "df_data_s['amount'] = df_data_s['amount'].astype('float').astype('int')\n",
    "\n",
    "#groupby \n",
    "df_data_s_count=pd.DataFrame(df_data_s.groupby(by=['merchant_alias']).agg({'amount': ['count','sum']})).rename(columns={ \"user_id\": \"success_total\"}).reset_index()\n",
    "df_data_f_count=pd.DataFrame(df_data_f.groupby(by=['merchant_alias'])['user_id'].count()).rename(columns={ \"user_id\": \"fail_total\"}).reset_index()\n",
    "df_data_s_people=pd.DataFrame(df_data_s.groupby(by=['merchant_alias'])['user_id'].nunique()).rename(columns={ \"user_id\": \"success_user\"}).reset_index()\n",
    "df_data_s_count.columns = ['Resource','success_total','success_amount']\n",
    "df_data_f_count.columns = ['Resource','fail_total']\n",
    "df_data_s_people.columns = ['Resource','success_user']\n",
    "\n",
    "#merge\n",
    "all_resource_df=pd.merge(df_finaldata,df_data_s_count,on = 'Resource',how = 'left')\n",
    "all_resource_df=pd.merge(all_resource_df,df_data_f_count,on = 'Resource',how = 'left')\n",
    "all_resource_df=all_resource_df.fillna(0)\n",
    "all_resource_df['total_s_f']=(all_resource_df['success_total']+all_resource_df['fail_total'])\n",
    "all_resource_df['success_rate']=round(all_resource_df['success_total'] / all_resource_df['total_s_f'] *100,1)\n",
    "all_resource_df['fail_rate']=round(all_resource_df['fail_total'] / all_resource_df['total_s_f'] *100,1)\n",
    "all_resource_df=pd.merge(all_resource_df,df_data_s_people,on = 'Resource',how = 'left')\n",
    "\n",
    "#remove na\n",
    "all_resource_df=all_resource_df.fillna(0)"
   ]
  },
  {
   "cell_type": "code",
   "execution_count": 11,
   "metadata": {},
   "outputs": [],
   "source": [
    "column_add=pd.DataFrame(df_finaldata[df_finaldata['total_time']=='1 days 00:00:00']['Resource'])\n",
    "column_add['Start']=ddd+'T00:00:00+0800'\n",
    "column_add['Finish']=ddd+'T23:59:59+0800'\n",
    "column_add['time_open']='1 days 00:00:00'\n",
    "testdata_all=emptylist.append(column_add)\n",
    "\n",
    "testdata_all=pd.merge(testdata_all,df_min_max,on = 'Resource',how = 'left')\n",
    "testdata_all=pd.merge(testdata_all,all_channel,on = 'Resource',how = 'left')\n",
    "testdata_all=testdata_all.fillna(0) # pd.to_numeric(testdata_all['per_trade_min'], errors='ignore').astype(str)\n",
    "testdata_all['per_trade_min']=pd.to_numeric(testdata_all['per_trade_min'], downcast='integer')\n",
    "testdata_all['Resource_name']=testdata_all['Resource']+'-'+testdata_all['per_trade_min'].astype(str)\n",
    "testdata_all.sort_values(by=[\"per_trade_min\",'bank_name'],inplace=True)"
   ]
  },
  {
   "cell_type": "code",
   "execution_count": 12,
   "metadata": {},
   "outputs": [],
   "source": [
    "#畫圖\n",
    "fig = px.timeline(testdata_all, x_start=\"Start\", x_end=\"Finish\", y=\"Resource_name\", color=\"Resource\" ,title='Channel Timeline Beijing')\n",
    "#fig.show()\n",
    "\n",
    "#存取到本地\n",
    "plotly.offline.plot(fig, filename = 'F:/Desktop/download_csv/filename_yabo.html', auto_open=False)\n",
    "all_resource_df.to_csv('F:/Desktop/download_csv/channel_data_yabo.csv' ,encoding=\"utf_8_sig\" )\n",
    "emptylist.to_csv('F:/Desktop/download_csv/channel_alldata_list_yabo.csv' ,encoding=\"utf_8_sig\" )"
   ]
  },
  {
   "cell_type": "code",
   "execution_count": 27,
   "metadata": {},
   "outputs": [
    {
     "data": {
      "text/plain": [
       "{'message_id': 4093,\n",
       " 'from': {'id': 1020859504,\n",
       "  'is_bot': True,\n",
       "  'first_name': 'BI_Bot',\n",
       "  'username': 'torin_gcp_bot'},\n",
       " 'chat': {'id': -408461960,\n",
       "  'title': 'H-數據通道群',\n",
       "  'type': 'group',\n",
       "  'all_members_are_administrators': True},\n",
       " 'date': 1609290744,\n",
       " 'document': {'file_name': 'channel_alldata_list.csv',\n",
       "  'mime_type': 'text/csv',\n",
       "  'file_id': 'BQACAgUAAxkDAAIP_V_r0_iz2yWIHOVqZfLfCwX_Wd0LAAL5AQACAjFhV4r_f9uhN4baHgQ',\n",
       "  'file_unique_id': 'AgAD-QEAAgIxYVc',\n",
       "  'file_size': 4257}}"
      ]
     },
     "execution_count": 27,
     "metadata": {},
     "output_type": "execute_result"
    }
   ],
   "source": [
    "#傳送到 TG\n",
    "tele_chatid=['-408461960']         #测试 -451149494   \n",
    "tele_token='1020859504:AAEb-tLbaBjJvJqBsLCzCsStrgTlZNqXRR8'\n",
    "bot = telepot.Bot(tele_token)\n",
    "bot.sendMessage(chat_id=tele_chatid[0],text= 'YABO-北京時間 : '+ str(ddd) +\"\\n\" ) \n",
    "bot.sendDocument(chat_id=tele_chatid[0] , document= open('F:/Desktop/download_csv/filename_yabo.html','rb')) \n",
    "bot.sendDocument(chat_id=tele_chatid[0] , document= open('F:/Desktop/download_csv/channel_data_yabo.csv','rb'))\n",
    "bot.sendDocument(chat_id=tele_chatid[0] , document= open('F:/Desktop/download_csv/channel_alldata_list_yabo.csv','rb'))"
   ]
  },
  {
   "cell_type": "code",
   "execution_count": null,
   "metadata": {},
   "outputs": [],
   "source": [
    "import os \n",
    "os.system(\"taskkill /im firefox.exe\")"
   ]
  }
 ],
 "metadata": {
  "kernelspec": {
   "display_name": "Python 3",
   "language": "python",
   "name": "python3"
  },
  "language_info": {
   "codemirror_mode": {
    "name": "ipython",
    "version": 3
   },
   "file_extension": ".py",
   "mimetype": "text/x-python",
   "name": "python",
   "nbconvert_exporter": "python",
   "pygments_lexer": "ipython3",
   "version": "3.8.5"
  }
 },
 "nbformat": 4,
 "nbformat_minor": 4
}
