{
 "cells": [
  {
   "cell_type": "code",
   "execution_count": 4,
   "metadata": {},
   "outputs": [],
   "source": [
    "import requests\n",
    "import telepot\n",
    "import datetime\n",
    "import time\n",
    "import pandas as pd\n",
    "import numpy as np"
   ]
  },
  {
   "cell_type": "code",
   "execution_count": 5,
   "metadata": {},
   "outputs": [],
   "source": [
    "LOGIN_URL = 'https://yb01.88lard.com/api/v1/manager/login'\n",
    "headers = {\n",
    "            'User-Agent': 'Mozilla/5.0 (Windows NT 10.0; Win64; x64) AppleWebKit/537.36 (KHTML, like Gecko) Chrome/84.0.4147.89 Safari/537.36',\n",
    "            }\n",
    "payload = {\n",
    "    'username': 'bbtorin',\n",
    "    'password': 'qwe123',\n",
    "}"
   ]
  },
  {
   "cell_type": "code",
   "execution_count": 6,
   "metadata": {},
   "outputs": [
    {
     "name": "stdout",
     "output_type": "stream",
     "text": [
      "<Response [200]>\n"
     ]
    }
   ],
   "source": [
    "#發送請求\n",
    "session_requests = requests.session()\n",
    "response = session_requests.request('PUT',url=LOGIN_URL, data=payload, headers=headers)\n",
    "print(response)\n",
    "ddd=(datetime.datetime.now() - datetime.timedelta(hours=12)).strftime(\"%Y-%m-%d\") \n",
    "ddd_delayone=(datetime.datetime.now() - datetime.timedelta(hours=36)).strftime(\"%Y-%m-%d\") \n",
    "#時間\n",
    "delay_oneday = (datetime.datetime.now() - datetime.timedelta(hours=12)).strftime(\"%Y-%m-%d, %H\") \n",
    "\n",
    "check_time=(datetime.datetime.now() - datetime.timedelta(hours=12)).strftime(\"%H\") \n",
    "if check_time == '00':\n",
    "    ddd=(datetime.datetime.now() - datetime.timedelta(hours=36)).strftime(\"%Y-%m-%d\") \n",
    "    ddd_delayone=(datetime.datetime.now() - datetime.timedelta(hours=60)).strftime(\"%Y-%m-%d\")  \n",
    "    delay_oneday = (datetime.datetime.now() - datetime.timedelta(hours=36)).strftime(\"%Y-%m-%d, %H\") \n",
    "    time.sleep(5) "
   ]
  },
  {
   "cell_type": "code",
   "execution_count": 10,
   "metadata": {},
   "outputs": [],
   "source": [
    "ttt = session_requests.get(\"https://yb01.88lard.com/api/v1/stats/daily_report?start_at=\"+ddd+\"T00%3A00%3A00-04%3A00&end_at=\"+ddd+\"T23%3A59%3A59-04%3A00\" ,headers=headers)"
   ]
  },
  {
   "cell_type": "code",
   "execution_count": 11,
   "metadata": {},
   "outputs": [],
   "source": [
    "ttt_bet = session_requests.get(\"https://yb01.88lard.com/api/v1/stats/agents/wager_report?canceled=0&start_settle_at=\"+ddd+\"T00%3A00%3A00-04%3A00&end_settle_at=\"+ddd+\"T23%3A59%3A59-04%3A00&timeOption=settleAt&currency=&to_CNY=true&specify=0&=&=&=&parentOption=all&first_result=0&max_results=5\" ,headers=headers)"
   ]
  },
  {
   "cell_type": "code",
   "execution_count": 12,
   "metadata": {},
   "outputs": [],
   "source": [
    "#ttt_deposite = session_requests.get(\"https://yb01.88lard.com/api/v1/wallet/invoice/list?submit_start=\"+ddd+\"T00%3A00%3A00-04%3A00&submit_end=\"+ddd+\"T23%3A59%3A59-04%3A00&first_result=0&max_results=5\" ,headers=headers)"
   ]
  },
  {
   "cell_type": "code",
   "execution_count": 13,
   "metadata": {},
   "outputs": [],
   "source": [
    "list_data_all=[]\n",
    "for i in range(0, 10000, 1000) : \n",
    "    ttt333 = session_requests.get(\"https://yb01.88lard.com/api/v1/wallet/invoice/list?submit_start=\"+ddd_delayone+\"T00%3A00%3A00-04%3A00&submit_end=\"+ddd+\"T23%3A59%3A59-04%3A00&first_result=\"+str(i)+\"&max_results=1000&updated_start=\"+ddd+\"T00%3A00%3A00-04%3A00&updated_end=\"+ddd+\"T23%3A59%3A59-04%3A00\" , headers=headers )\n",
    "    output_data=ttt333.json()['ret']\n",
    "    list_data_all=list_data_all+output_data\n",
    "df_all=pd.DataFrame(list_data_all)"
   ]
  },
  {
   "cell_type": "code",
   "execution_count": 14,
   "metadata": {},
   "outputs": [],
   "source": [
    "df_all=df_all[df_all['status']==True]    #成功單\n",
    "df_all=df_all[df_all['level_id'] != 581]  #測試會員 \n",
    "df_all=df_all[df_all['opcode'] != 1049]   #轉讓充值\n",
    "deposit=sum(df_all['amount'].astype('float'))\n",
    "user_count_dep=df_all['user_id'].nunique()"
   ]
  },
  {
   "cell_type": "code",
   "execution_count": 16,
   "metadata": {},
   "outputs": [],
   "source": [
    "def send_telegrame():\n",
    "    tele_chatid=['-408673375']         #测试 -451149494   #正式 -空 \n",
    "    tele_token='1020859504:AAEb-tLbaBjJvJqBsLCzCsStrgTlZNqXRR8'\n",
    "    bot = telepot.Bot(tele_token)\n",
    "    bot.sendMessage(chat_id=tele_chatid[0],\n",
    "        text= '美東時間 : '+ str(delay_oneday) +'時'+ \"\\n\" +\n",
    "              '派彩 : '+ str(payoff) + \"\\n\" +\n",
    "              '有效投注金額 : '+ str(valid_bet) + \"\\n\" +\n",
    "              '有效投注人數 : '+ str(user_count_bet) + \"\\n\" +\n",
    "              '存款金額 : '+ str(deposit) + \"\\n\" +\n",
    "              '存提差 : '+ str(deposit-withdraw) + \"\\n\" +\n",
    "              '充值人數 : '+ str(user_count_dep) + \"\\n\"    \n",
    "              )"
   ]
  },
  {
   "cell_type": "code",
   "execution_count": 17,
   "metadata": {},
   "outputs": [],
   "source": [
    "#獲取訊息\n",
    "valid_bet=round(float(str(ttt.json()['ret'][ddd]['valid_bet']).replace(\"None\",'0')),1)\n",
    "payoff=round(float(str(ttt.json()['ret'][ddd]['payoff']).replace(\"None\",'0'))*-1,1)\n",
    "\n",
    "withdraw=float(str(ttt.json()['ret'][ddd]['withdraw']).replace(\"None\",'0'))\n",
    "user_count_bet=str(ttt_bet.json()['total']['user_count']).replace(\"NaN\",'0')\n",
    "\n",
    "deposit=float(str(deposit).replace(\"None\",'0'))\n",
    "user_count_dep=str(user_count_dep).replace(\"None\",'0')\n",
    "#傳送到TG\n",
    "send_telegrame()"
   ]
  },
  {
   "cell_type": "code",
   "execution_count": 22,
   "metadata": {},
   "outputs": [
    {
     "data": {
      "text/plain": [
       "SkypeTextMsg(id='1609311697041', type='Text', time=datetime.datetime(2020, 12, 30, 15, 1, 37, 13000), clientId='1609311696969', userId='live:.cid.3ad6316fc2604f34', chatId='19:4f608eb0d3564058911ccc1961edd76a@thread.skype', content='美東時間 : 2020-12-30, 03時\\n派彩 : 227290.9\\n有效投注金額 : 2685803.9\\n有效投注人數 : 509\\n存款金額 : 420330.0\\n存提差 : 63122.0\\n充值人數 : 241\\n')"
      ]
     },
     "execution_count": 22,
     "metadata": {},
     "output_type": "execute_result"
    }
   ],
   "source": [
    "from skpy import Skype\n",
    "sk = Skype('troy30222@gmail.com' , 'sancho130222')\n",
    "sk.chats.chat('19:4f608eb0d3564058911ccc1961edd76a@thread.skype').sendMsg(\n",
    "'美東時間 : '+ str(delay_oneday) +'時'+ \"\\n\" +\n",
    "'派彩 : '+ str(payoff) + \"\\n\" +\n",
    "'有效投注金額 : '+ str(valid_bet) + \"\\n\" +\n",
    "'有效投注人數 : '+ str(user_count_bet) + \"\\n\" +\n",
    "'存款金額 : '+ str(round(deposit,1)) + \"\\n\" +\n",
    "'存提差 : '+ str(round(deposit-withdraw,1)) + \"\\n\" +\n",
    "'充值人數 : '+ str(user_count_dep) + \"\\n\" \n",
    ")"
   ]
  },
  {
   "cell_type": "code",
   "execution_count": null,
   "metadata": {},
   "outputs": [],
   "source": [
    "#sk.chats.recent() \n",
    "#sk.chats.chat('19:4f608eb0d3564058911ccc1961edd76a@thread.skype').sendFile(open(\"song.mp3\", \"rb\"), \"song.mp3\") "
   ]
  },
  {
   "cell_type": "code",
   "execution_count": null,
   "metadata": {},
   "outputs": [],
   "source": []
  }
 ],
 "metadata": {
  "kernelspec": {
   "display_name": "Python 3",
   "language": "python",
   "name": "python3"
  },
  "language_info": {
   "codemirror_mode": {
    "name": "ipython",
    "version": 3
   },
   "file_extension": ".py",
   "mimetype": "text/x-python",
   "name": "python",
   "nbconvert_exporter": "python",
   "pygments_lexer": "ipython3",
   "version": "3.8.5"
  }
 },
 "nbformat": 4,
 "nbformat_minor": 4
}
