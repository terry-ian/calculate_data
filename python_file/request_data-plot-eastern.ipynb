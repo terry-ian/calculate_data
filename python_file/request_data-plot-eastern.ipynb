{
 "cells": [
  {
   "cell_type": "code",
   "execution_count": 95,
   "metadata": {},
   "outputs": [],
   "source": [
    "import requests\n",
    "import telepot\n",
    "import datetime\n",
    "import pandas as pd\n",
    "import numpy as np\n",
    "import json\n",
    "from pandas import json_normalize\n",
    "\n",
    "import selenium\n",
    "from selenium import webdriver\n",
    "from selenium.webdriver.firefox.options import Options\n",
    "from selenium.webdriver.firefox.firefox_binary import FirefoxBinary\n",
    "import time\n",
    "from selenium.webdriver.common.desired_capabilities import DesiredCapabilities\n",
    "import datetime\n",
    "from selenium.webdriver.common.action_chains import ActionChains"
   ]
  },
  {
   "cell_type": "code",
   "execution_count": 96,
   "metadata": {},
   "outputs": [],
   "source": [
    "user_agent = \"Mozilla/5.0 (Macintosh; Intel Mac OS X 10_13_6) AppleWebKit/605.1.15 (KHTML, like Gecko) Version/12.0.3 Safari/605.1.15\"\n",
    "profile = webdriver.FirefoxProfile()\n",
    "profile.set_preference(\"general.useragent.override\", user_agent)\n",
    "#帳號密碼\n",
    "username=\"bbtorin\" \n",
    "passwd=\"qwe123\"\n",
    "nowtime = datetime.datetime.now().strftime(\"%Y-%m-%d %H:%M:%S\")"
   ]
  },
  {
   "cell_type": "code",
   "execution_count": 97,
   "metadata": {},
   "outputs": [],
   "source": [
    "###################  登入系統  ################\n",
    "fp = webdriver.FirefoxProfile()\n",
    "fp.set_preference(\"browser.download.folderList\", 2) # 0 means to download to the desktop, 1 means to download to the default \"Downloads\" directory, 2 means to use the directory \n",
    "fp.set_preference(\"browser.helperApps.neverAsk.saveToDisk\", \"text/plain,text/x-csv,text/csv,application/vnd.ms-excel,application/csv,application/x-csv,text/csv,text/comma-separated-values,text/x-comma-separated-values,text/tab-separated-values,application/pdf\")\n",
    "fp.set_preference(\"browser.download.manager.showWhenStarting\",False)\n",
    "fp.set_preference(\"browser.helperApps.neverAsk.openFile\",\"text/plain,text/x-csv,text/csv,application/vnd.ms-excel,application/csv,application/x-csv,text/csv,text/comma-separated-values,text/x-comma-separated-values,text/tab-separated-values,application/pdf\")\n",
    "fp.set_preference(\"browser.helperApps.alwaysAsk.force\", False)\n",
    "fp.set_preference(\"browser.download.manager.useWindow\", False)\n",
    "fp.set_preference(\"browser.download.manager.focusWhenStarting\", False)\n",
    "fp.set_preference(\"browser.helperApps.neverAsk.openFile\", \"\")\n",
    "fp.set_preference(\"browser.download.manager.alertOnEXEOpen\", False)\n",
    "fp.set_preference(\"browser.download.manager.showAlertOnComplete\", False)\n",
    "fp.set_preference(\"browser.download.manager.closeWhenDone\", True)\n",
    "fp.set_preference(\"browser.download.dir\", \"F:\\Desktop\\download_csv\") \n",
    "options = Options()\n",
    "options.add_argument('--headless')\n",
    "options.binary = FirefoxBinary(r'C:\\Program Files\\Mozilla Firefox\\firefox.exe')\n",
    "browser = webdriver.Firefox(executable_path=r'F:\\Desktop\\python_code\\geckodriver.exe', options=options,firefox_profile = fp)\n",
    "browser.maximize_window()\n",
    "browser.get('https://yb01.88lard.com/')\n",
    "time.sleep(3)\n",
    "\n",
    "#elem=browser.find_element_by_id(\"username\")\n",
    "elem=browser.find_element_by_name(\"username\")\n",
    "elem.send_keys(username)\n",
    "#elem=browser.find_element_by_id(\"password\")\n",
    "elem=browser.find_element_by_name(\"password\")\n",
    "elem.send_keys(passwd)\n",
    "elem=browser.find_element_by_class_name(\"ui.large.fluid.button.submit\")\n",
    "elem.click()\n",
    "time.sleep(3)"
   ]
  },
  {
   "cell_type": "code",
   "execution_count": 98,
   "metadata": {},
   "outputs": [],
   "source": [
    "#點選進入迅付\n",
    "browser.find_element_by_class_name('item.sidebar-tab.extension-menu').click()\n",
    "time.sleep(1)\n",
    "browser.find_element_by_xpath('//div[@class=\"sidebar-text\"][text()=\"迅付\"]').click() \n",
    "time.sleep(1) "
   ]
  },
  {
   "cell_type": "code",
   "execution_count": 99,
   "metadata": {},
   "outputs": [
    {
     "name": "stderr",
     "output_type": "stream",
     "text": [
      "<ipython-input-99-f34807bf05b7>:4: DeprecationWarning:\n",
      "\n",
      "use driver.switch_to.window instead\n",
      "\n"
     ]
    }
   ],
   "source": [
    "#換分頁\n",
    "browser1=browser.window_handles[1]\n",
    "time.sleep(1)\n",
    "browser.switch_to_window(browser1) \n",
    "time.sleep(1)"
   ]
  },
  {
   "cell_type": "code",
   "execution_count": 100,
   "metadata": {},
   "outputs": [],
   "source": [
    "#抵達會員入款訊息 \n",
    "time.sleep(5)\n",
    "browser.find_element_by_xpath('//*[@id=\"site-container\"]/nav/div[2]/div[1]/div[2]/div/ul/li[5]/div/div[1]/a').click()\n",
    "time.sleep(2)\n",
    "browser.find_element_by_xpath('//*[@id=\"site-content\"]/div/div[1]/button[3]').click()"
   ]
  },
  {
   "cell_type": "code",
   "execution_count": 101,
   "metadata": {},
   "outputs": [],
   "source": [
    "cookies = browser.get_cookies()  # 获取浏览器cookies\n",
    "payid=cookies[0]['value']"
   ]
  },
  {
   "cell_type": "code",
   "execution_count": 102,
   "metadata": {},
   "outputs": [],
   "source": [
    "#登入訊息\n",
    "headers = {\n",
    "'cookie': 'lang=zh-cn; payid='+payid,\n",
    "#'referer': weblink,\n",
    "'user-agent': 'Mozilla/5.0 (Windows NT 10.0; Win64; x64) AppleWebKit/537.36 (KHTML, like Gecko) Chrome/84.0.4147.89 Safari/537.36'\n",
    "} \n",
    "\n",
    "\n",
    "#美東時間\n",
    "aaaaa1=(datetime.datetime.now() - datetime.timedelta(hours=36)).strftime(\"%Y-%m-%d\") \n",
    "aaaaa2=(datetime.datetime.now() - datetime.timedelta(hours=12)).strftime(\"%Y-%m-%d\") "
   ]
  },
  {
   "cell_type": "code",
   "execution_count": 103,
   "metadata": {},
   "outputs": [],
   "source": [
    "#抓取更動\n",
    "session_requests = requests.session()\n",
    "ttt = session_requests.get(\"https://a.inpay-pro.com/api/trade/v1/monitor/account_log?created_at_start=\"+aaaaa1+\"T00%3A00%3A00%2B0800&created_at_end=\"+aaaaa2+\"T11%3A59%3A59%2B0800&vendor_id=81&purpose=payment&first_result=0&max_results=200&sort=created_at&order=desc\" , headers=headers )\n",
    "#抓取上限下限                  \n",
    "ttt222 = session_requests.get(\"https://a.inpay-pro.com/api/trade/v1/merchant/deposit/list?first_result=0&max_results=200&sort=id&order=asc\" , headers=headers )"
   ]
  },
  {
   "cell_type": "code",
   "execution_count": 104,
   "metadata": {},
   "outputs": [],
   "source": [
    "list_data_all_f=[]\n",
    "for i in range(0, 10000, 1000) :\n",
    "    ttt333 = session_requests.get(\"https://a.inpay-pro.com/api/trade/v1/deposit/entry/list?created_at_start=\"+aaaaa1+\"T00%3A00%3A00%2B0800&created_at_end=\"+aaaaa2+\"T11%3A59%3A59%2B0800&sort=id&order=desc&first_result=\"+str(i)+\"&max_results=1000\" , headers=headers )\n",
    "    output_data=ttt333.json()['ret']\n",
    "    list_data_all_f=list_data_all_f+output_data"
   ]
  },
  {
   "cell_type": "code",
   "execution_count": 105,
   "metadata": {},
   "outputs": [],
   "source": [
    "list_data_all_s=[]\n",
    "for i in range(0, 10000, 1000) :   \n",
    "    ttt444 = session_requests.get(\"https://a.inpay-pro.com/api/trade/v1/deposit/entry/list?state_at_start=\"+aaaaa1+\"T00%3A00%3A00%2B0800&state_at_end=\"+aaaaa2+\"T11%3A59%3A59%2B0800&sort=id&order=desc&first_result=\"+str(i)+\"&max_results=1000\" , headers=headers )\n",
    "    output_data_s=ttt444.json()['ret']\n",
    "    list_data_all_s=list_data_all_s+output_data_s"
   ]
  },
  {
   "cell_type": "code",
   "execution_count": 106,
   "metadata": {},
   "outputs": [],
   "source": [
    "all_channel=pd.DataFrame(list_data_all_s)[['merchant_alias','bank_name']]\n",
    "all_channel=all_channel[all_channel['merchant_alias'] != '代客充值-鸭脖银行卡支援']"
   ]
  },
  {
   "cell_type": "code",
   "execution_count": 107,
   "metadata": {},
   "outputs": [],
   "source": [
    "all_channel=pd.DataFrame(all_channel.groupby(['merchant_alias', 'bank_name']).size().reset_index().rename(columns={\"size\": \"total_count\"}))\n",
    "all_channel.columns = ['Resource','bank_name','total_count']\n",
    "all_channel=all_channel[['Resource','bank_name']]"
   ]
  },
  {
   "cell_type": "code",
   "execution_count": 108,
   "metadata": {},
   "outputs": [
    {
     "name": "stderr",
     "output_type": "stream",
     "text": [
      "<ipython-input-108-967e24157dae>:3: DeprecationWarning:\n",
      "\n",
      "use driver.switch_to.window instead\n",
      "\n"
     ]
    }
   ],
   "source": [
    "browser.close()\n",
    "time.sleep(1)\n",
    "browser.switch_to_window(browser.window_handles[0]) \n",
    "time.sleep(1)\n",
    "browser.close()"
   ]
  },
  {
   "cell_type": "code",
   "execution_count": 109,
   "metadata": {},
   "outputs": [],
   "source": [
    "df_data=pd.DataFrame(ttt.json()['ret'])\n",
    "df_data=df_data[['alias','status','created_at']]"
   ]
  },
  {
   "cell_type": "code",
   "execution_count": 110,
   "metadata": {},
   "outputs": [
    {
     "data": {
      "text/plain": [
       "array(['CGPay701', 'KoiPayment701-微信H5', '华安支付701-收银台',\n",
       "       '工-吴娅楠-VIP2~VIP10_極速', '工-曹翠翠-VIP2~VIP10_極速',\n",
       "       '建-陈柏宗-VIP2~VIP10_極速', '拉斐支付707-微信H5', '新快讯703-支付宝H5',\n",
       "       '新快讯704-微信H5', '新快讯705-支付宝H5', '新快讯706-收银台', '新龙腾703-收银台',\n",
       "       '永信701-收银台', '牛公公706-收银台', '牛公公707-收银台', '牛公公726-银联H5',\n",
       "       '码上支付701-支付宝QR', '码上支付705-微信QR', '购宝钱包701', '远华支付701-收银台',\n",
       "       '远华支付702-银联H5'], dtype=object)"
      ]
     },
     "execution_count": 110,
     "metadata": {},
     "output_type": "execute_result"
    }
   ],
   "source": [
    "name_list=np.unique(df_data['alias'])\n",
    "name_list"
   ]
  },
  {
   "cell_type": "code",
   "execution_count": 111,
   "metadata": {},
   "outputs": [],
   "source": [
    "emptylist= pd.DataFrame(columns=['Resource','Start','Finish'])\n",
    "\n",
    "for j in name_list :\n",
    "    test_data=df_data[df_data['alias']==j].sort_index(axis=0, ascending=False)\n",
    "    data_len=test_data.shape[0]\n",
    "    for i in range(data_len):\n",
    "        if test_data['status'].iloc[0]=='disable' or test_data['status'].iloc[0]=='suspend':\n",
    "            if i == 0 :\n",
    "                emptylist=emptylist.append({\"Resource\":test_data['alias'].iloc[0],\"Start\":aaaaa1+'T00:00:00+0800', \"Finish\":test_data['created_at'].iloc[0]},ignore_index=True)\n",
    "            if test_data['status'].iloc[i]=='disable' and test_data['status'].iloc[i]=='suspend':\n",
    "                continue\n",
    "            if test_data['status'].iloc[i] == 'enable' and i != data_len-1: \n",
    "                emptylist=emptylist.append({\"Resource\":test_data['alias'].iloc[0],\"Start\":test_data['created_at'].iloc[i], \"Finish\":test_data['created_at'].iloc[i+1]},ignore_index=True)\n",
    "            if i == data_len-1 and test_data['status'].iloc[i] == 'enable':\n",
    "                emptylist=emptylist.append({\"Resource\":test_data['alias'].iloc[0],\"Start\":test_data['created_at'].iloc[i], \"Finish\":aaaaa2+'T11:59:59+0800'},ignore_index=True)\n",
    "\n",
    "    \n",
    "        if test_data['status'].iloc[0]=='enable':\n",
    "            if i == 0 and i != data_len-1:\n",
    "                emptylist=emptylist.append({\"Resource\":test_data['alias'].iloc[0],\"Start\":test_data['created_at'].iloc[i], \"Finish\":test_data['created_at'].iloc[i+1]},ignore_index=True)\n",
    "            if test_data['status'].iloc[i]=='disable' and test_data['status'].iloc[i]=='suspend':\n",
    "                continue\n",
    "            if test_data['status'].iloc[i] == 'enable' and i != data_len-1 and i != 0: \n",
    "                emptylist=emptylist.append({\"Resource\":test_data['alias'].iloc[0],\"Start\":test_data['created_at'].iloc[i], \"Finish\":test_data['created_at'].iloc[i+1]},ignore_index=True)\n",
    "            if i == data_len-1 and test_data['status'].iloc[i] == 'enable':\n",
    "                emptylist=emptylist.append({\"Resource\":test_data['alias'].iloc[0],\"Start\":test_data['created_at'].iloc[i], \"Finish\":aaaaa2+'T11:59:59+0800'},ignore_index=True)\n"
   ]
  },
  {
   "cell_type": "code",
   "execution_count": 112,
   "metadata": {},
   "outputs": [],
   "source": [
    "emptylist['time_open'] = pd.to_datetime(emptylist['Finish'])-pd.to_datetime(emptylist['Start'])"
   ]
  },
  {
   "cell_type": "code",
   "execution_count": 113,
   "metadata": {},
   "outputs": [],
   "source": [
    "emptylist['Finish']=(pd.to_datetime(emptylist['Finish'])- datetime.timedelta(hours=12)).dt.strftime(\"%Y-%m-%d %H:%M:%S\") \n",
    "emptylist['Start']=(pd.to_datetime(emptylist['Start'])- datetime.timedelta(hours=12)).dt.strftime(\"%Y-%m-%d %H:%M:%S\") "
   ]
  },
  {
   "cell_type": "code",
   "execution_count": 115,
   "metadata": {},
   "outputs": [],
   "source": [
    "final_data=pd.DataFrame(emptylist.groupby(by=['Resource']).agg({'time_open': ['count','sum']})).reset_index().rename(columns={ \"count\": \"total_count\",\"sum\": \"total_time\"})\n",
    "final_data.columns = ['Resource', 'total_count', 'total_time']"
   ]
  },
  {
   "cell_type": "code",
   "execution_count": 116,
   "metadata": {},
   "outputs": [],
   "source": [
    "#合併通道金額大小\n",
    "df_min_max=pd.DataFrame(ttt222.json()['ret'])[['alias','per_trade_min','per_trade_max']]\n",
    "df_min_max.columns =  ['Resource', 'per_trade_min', 'per_trade_max'] \n",
    "df_finaldata=pd.merge(all_channel,final_data,on = 'Resource',how = 'outer')\n",
    "df_finaldata=pd.merge(df_finaldata,df_min_max,on = 'Resource',how = 'left')"
   ]
  },
  {
   "cell_type": "code",
   "execution_count": 117,
   "metadata": {},
   "outputs": [],
   "source": [
    "df_finaldata['total_count']=df_finaldata['total_count'].fillna(1)\n",
    "df_finaldata['total_time']=df_finaldata['total_time'].fillna('1 days 12:00:00')\n",
    "df_finaldata=df_finaldata.fillna('銀行卡系列')"
   ]
  },
  {
   "cell_type": "code",
   "execution_count": 118,
   "metadata": {},
   "outputs": [],
   "source": [
    "#list_data_all_s list_data_all_f\n",
    "df_data_s=pd.DataFrame(list_data_all_s)[['merchant_alias','user_id','level_name','confirm','amount']]\n",
    "df_data_f=pd.DataFrame(list_data_all_f)[['merchant_alias','user_id','level_name','confirm']]\n",
    "\n",
    "#排除測試和代客\n",
    "df_data_s=df_data_s[(df_data_s['merchant_alias'] != '代客充值-鸭脖银行卡支援') & (df_data_s['level_name'] != '測試帳號') & (df_data_s['confirm'] == True)]\n",
    "df_data_f=df_data_f[(df_data_f['merchant_alias'] != '代客充值-鸭脖银行卡支援') & (df_data_f['level_name'] != '測試帳號') & (df_data_f['confirm'] == False)] \n",
    "df_data_s['amount'] = df_data_s['amount'].astype('float').astype('int')\n",
    "\n",
    "#groupby \n",
    "df_data_s_count=pd.DataFrame(df_data_s.groupby(by=['merchant_alias']).agg({'amount': ['count','sum']})).rename(columns={ \"user_id\": \"success_total\"}).reset_index()\n",
    "df_data_f_count=pd.DataFrame(df_data_f.groupby(by=['merchant_alias'])['user_id'].count()).rename(columns={ \"user_id\": \"fail_total\"}).reset_index()\n",
    "df_data_s_people=pd.DataFrame(df_data_s.groupby(by=['merchant_alias'])['user_id'].nunique()).rename(columns={ \"user_id\": \"success_user\"}).reset_index()\n",
    "df_data_s_count.columns = ['Resource','success_total','success_amount']\n",
    "df_data_f_count.columns = ['Resource','fail_total']\n",
    "df_data_s_people.columns = ['Resource','success_user']\n",
    "\n",
    "#merge\n",
    "all_resource_df=pd.merge(df_finaldata,df_data_s_count,on = 'Resource',how = 'left')\n",
    "all_resource_df=pd.merge(all_resource_df,df_data_f_count,on = 'Resource',how = 'left')\n",
    "all_resource_df=all_resource_df.fillna(0)\n",
    "all_resource_df['total_s_f']=(all_resource_df['success_total']+all_resource_df['fail_total'])\n",
    "all_resource_df['success_rate']=round(all_resource_df['success_total'] / all_resource_df['total_s_f'] *100,1)\n",
    "all_resource_df['fail_rate']=round(all_resource_df['fail_total'] / all_resource_df['total_s_f'] *100,1)\n",
    "all_resource_df=pd.merge(all_resource_df,df_data_s_people,on = 'Resource',how = 'left')\n",
    "\n",
    "#remove na\n",
    "all_resource_df=all_resource_df.fillna(0)"
   ]
  },
  {
   "cell_type": "code",
   "execution_count": 131,
   "metadata": {},
   "outputs": [],
   "source": [
    "aaaaa1_1=(datetime.datetime.now() - datetime.timedelta(hours=48)).strftime(\"%Y-%m-%d\") \n",
    "column_add=pd.DataFrame(df_finaldata[df_finaldata['total_time']=='1 days 12:00:00']['Resource'])\n",
    "column_add['Start']=aaaaa1_1+' 12:00:00'  #00\n",
    "column_add['Finish']=aaaaa1+' 23:59:59'  #23 aaaaa\n",
    "column_add['time_open']='1 days 12:00:00'\n",
    "testdata_all=emptylist.append(column_add)"
   ]
  },
  {
   "cell_type": "code",
   "execution_count": 132,
   "metadata": {},
   "outputs": [],
   "source": [
    "testdata_all=pd.merge(testdata_all,df_min_max,on = 'Resource',how = 'left')\n",
    "testdata_all=pd.merge(testdata_all,all_channel,on = 'Resource',how = 'left')\n",
    "testdata_all=testdata_all.fillna(0) # pd.to_numeric(testdata_all['per_trade_min'], errors='ignore').astype(str)\n",
    "testdata_all['per_trade_min']=pd.to_numeric(testdata_all['per_trade_min'], downcast='integer')\n",
    "testdata_all['Resource_name']=testdata_all['Resource']+'-'+testdata_all['per_trade_min'].astype(str)\n",
    "testdata_all.sort_values(by=[\"per_trade_min\",'bank_name'],inplace=True)"
   ]
  },
  {
   "cell_type": "code",
   "execution_count": 133,
   "metadata": {},
   "outputs": [],
   "source": [
    "import plotly.express as px\n",
    "import pandas as pd\n",
    "\n",
    "fig = px.timeline(testdata_all, x_start=\"Start\", x_end=\"Finish\", y=\"Resource_name\", color=\"Resource\" ,title='Channel Timeline Eastern')\n",
    "#fig.show()"
   ]
  },
  {
   "cell_type": "code",
   "execution_count": 134,
   "metadata": {},
   "outputs": [],
   "source": [
    "#存取到本地\n",
    "import plotly\n",
    "import plotly.graph_objs as go\n",
    "plotly.offline.plot(fig, filename = 'F:/Desktop/download_csv/filename_eastern.html', auto_open=False)\n",
    "all_resource_df.to_csv('F:/Desktop/download_csv/channel_data_eastern.csv' ,encoding=\"utf_8_sig\" )"
   ]
  },
  {
   "cell_type": "code",
   "execution_count": 28,
   "metadata": {},
   "outputs": [
    {
     "data": {
      "text/plain": [
       "{'message_id': 4104,\n",
       " 'from': {'id': 1020859504,\n",
       "  'is_bot': True,\n",
       "  'first_name': 'BI_Bot',\n",
       "  'username': 'torin_gcp_bot'},\n",
       " 'chat': {'id': -451149494,\n",
       "  'title': 'BI-team',\n",
       "  'type': 'group',\n",
       "  'all_members_are_administrators': True},\n",
       " 'date': 1609305030,\n",
       " 'document': {'file_name': 'channel_data.csv',\n",
       "  'mime_type': 'text/csv',\n",
       "  'file_id': 'BQACAgUAAxkDAAIQCF_sC8YcQ_Nq-SlAtNG7ylwkCqy8AAKNAQAC201gV60cfTA6n0mjHgQ',\n",
       "  'file_unique_id': 'AgADjQEAAttNYFc',\n",
       "  'file_size': 2796}}"
      ]
     },
     "execution_count": 28,
     "metadata": {},
     "output_type": "execute_result"
    }
   ],
   "source": [
    "#傳送到 TG\n",
    "import telepot\n",
    "tele_chatid=['-451149494']         #测试 -451149494   #正式 -空 \n",
    "tele_token='1020859504:AAEb-tLbaBjJvJqBsLCzCsStrgTlZNqXRR8'\n",
    "bot = telepot.Bot(tele_token)\n",
    "bot.sendMessage(chat_id=tele_chatid[0],text= '美東時間 : '+ str(aaaaa1) +\"\\n\" ) \n",
    "bot.sendDocument(chat_id=tele_chatid[0] , document= open('F:/Desktop/download_csv/filename_eastern.html','rb')) \n",
    "bot.sendDocument(chat_id=tele_chatid[0] , document= open('F:/Desktop/download_csv/channel_data_eastern.csv','rb'))#,encoding = 'utf-8'"
   ]
  },
  {
   "cell_type": "code",
   "execution_count": 135,
   "metadata": {},
   "outputs": [
    {
     "data": {
      "text/plain": [
       "{'message_id': 4305,\n",
       " 'from': {'id': 1020859504,\n",
       "  'is_bot': True,\n",
       "  'first_name': 'BI_Bot',\n",
       "  'username': 'torin_gcp_bot'},\n",
       " 'chat': {'id': -408461960,\n",
       "  'title': 'H-數據通道群',\n",
       "  'type': 'group',\n",
       "  'all_members_are_administrators': True},\n",
       " 'date': 1609917256,\n",
       " 'document': {'file_name': 'channel_data_eastern.csv',\n",
       "  'mime_type': 'text/csv',\n",
       "  'file_id': 'BQACAgUAAxkDAAIQ0V_1Y0gGCPRA6-x52eIOIelt6lrzAALCAQACBmyxVxCpn-QlM2MIHgQ',\n",
       "  'file_unique_id': 'AgADwgEAAgZssVc',\n",
       "  'file_size': 3422}}"
      ]
     },
     "execution_count": 135,
     "metadata": {},
     "output_type": "execute_result"
    }
   ],
   "source": [
    "#傳送到 TG\n",
    "import telepot\n",
    "tele_chatid=['-408461960']         #测试 -451149494   #正式 -空 \n",
    "tele_token='1020859504:AAEb-tLbaBjJvJqBsLCzCsStrgTlZNqXRR8'\n",
    "bot = telepot.Bot(tele_token)\n",
    "bot.sendMessage(chat_id=tele_chatid[0],text= '美東時間 : '+ str(aaaaa1) +\"\\n\" ) \n",
    "bot.sendDocument(chat_id=tele_chatid[0] , document= open('F:/Desktop/download_csv/filename_eastern.html','rb')) \n",
    "bot.sendDocument(chat_id=tele_chatid[0] , document= open('F:/Desktop/download_csv/channel_data_eastern.csv','rb'))#,encoding = 'utf-8'"
   ]
  },
  {
   "cell_type": "code",
   "execution_count": null,
   "metadata": {},
   "outputs": [],
   "source": [
    "import os \n",
    "os.system(\"taskkill /im firefox.exe\")"
   ]
  },
  {
   "cell_type": "code",
   "execution_count": 4,
   "metadata": {},
   "outputs": [],
   "source": [
    "'''\n",
    "test_data_123=df_data[df_data['alias']==\"KoiPayment701-微信H5\"].sort_index(axis=0, ascending=False)\n",
    "test_data_123\n",
    "\n",
    "def send_telegrame():\n",
    "    tele_chatid=['-408673375']         #测试 -451149494   #正式 -空 \n",
    "    tele_token='1020859504:AAEb-tLbaBjJvJqBsLCzCsStrgTlZNqXRR8'\n",
    "    bot = telepot.Bot(tele_token)\n",
    "    bot.sendMessage(chat_id=tele_chatid[0],\n",
    "                text= '美東時間 : '+ str(delay_oneday) +'時'+ \"\\n\" +\n",
    "                '註冊人數 : '+ str(player) + \"\\n\" +\n",
    "                '有效投注金額 : '+ str(valid_bet) + \"\\n\" +\n",
    "                '損益 : '+ str(payoff) + \"\\n\" +\n",
    "                '首存人數 : '+ str(deposit_first) + \"\\n\" +\n",
    "                '存款總額 : '+ str(deposit) + \"\\n\" +\n",
    "                '取款總額 : '+ str(withdraw) + \"\\n\" +\n",
    "                '獲利比(損益/有效投注) : '+ str(profit_ratio) +'%'+ \"\\n\" )\n",
    "#獲取訊息\n",
    "player=int(ttt.json()['ret']['player']['today'])\n",
    "valid_bet=float(ttt.json()['ret']['valid_bet']['today'])\n",
    "payoff=float(ttt.json()['ret']['payoff'] ['today'])*-1\n",
    "deposit_first=int(ttt.json()['ret']['deposit_first'] ['today'])\n",
    "deposit=float(ttt.json()['ret']['deposit'] ['today'])\n",
    "withdraw=float(ttt.json()['ret']['withdraw'] ['today'])\n",
    "profit_ratio=round(float(ttt.json()['ret']['profit_ratio'] ['today']),2)\n",
    "#傳送到TG\n",
    "send_telegrame()    \n",
    "df = pd.DataFrame([\n",
    "    dict(Task=\"Job A\", Start='2020-12-21T00:02:04+0800 ', Finish='2020-12-21T01:07:24+0800', Resource=\"新快讯704-微信H5\"),\n",
    "    dict(Task=\"Job B\", Start='2020-12-21T09:33:07+0800', Finish='2020-12-21T16:43:21+0800', Resource=\"新快讯704-微信H5\"),\n",
    "    dict(Task=\"Job C\", Start='2020-12-21T04:33:07+0800', Finish='2020-12-21T12:43:21+0800', Resource=\"牛公公706-收银台\")\n",
    "])\n",
    "\n",
    "fig.update_layout(xaxis=dict(\n",
    "                      title='Timestamp', \n",
    "                      tickformat = '%H:%M:%S',\n",
    "                  ))\n",
    "\n",
    "\n",
    "'''"
   ]
  },
  {
   "cell_type": "code",
   "execution_count": null,
   "metadata": {},
   "outputs": [],
   "source": []
  },
  {
   "cell_type": "code",
   "execution_count": null,
   "metadata": {},
   "outputs": [],
   "source": []
  },
  {
   "cell_type": "code",
   "execution_count": 26,
   "metadata": {},
   "outputs": [
    {
     "name": "stderr",
     "output_type": "stream",
     "text": [
      "<ipython-input-26-21cb78e33c94>:4: SettingWithCopyWarning: \n",
      "A value is trying to be set on a copy of a slice from a DataFrame\n",
      "\n",
      "See the caveats in the documentation: https://pandas.pydata.org/pandas-docs/stable/user_guide/indexing.html#returning-a-view-versus-a-copy\n",
      "  trydata_50.sort_values(by=[\"Start\"],inplace=True)\n",
      "<ipython-input-26-21cb78e33c94>:5: SettingWithCopyWarning: \n",
      "A value is trying to be set on a copy of a slice from a DataFrame.\n",
      "Try using .loc[row_indexer,col_indexer] = value instead\n",
      "\n",
      "See the caveats in the documentation: https://pandas.pydata.org/pandas-docs/stable/user_guide/indexing.html#returning-a-view-versus-a-copy\n",
      "  trydata_50['Start']=pd.to_datetime(trydata_50['Start'])\n",
      "<ipython-input-26-21cb78e33c94>:6: SettingWithCopyWarning: \n",
      "A value is trying to be set on a copy of a slice from a DataFrame.\n",
      "Try using .loc[row_indexer,col_indexer] = value instead\n",
      "\n",
      "See the caveats in the documentation: https://pandas.pydata.org/pandas-docs/stable/user_guide/indexing.html#returning-a-view-versus-a-copy\n",
      "  trydata_50['Finish']=pd.to_datetime(trydata_50['Finish'])\n",
      "<ipython-input-26-21cb78e33c94>:9: SettingWithCopyWarning: \n",
      "A value is trying to be set on a copy of a slice from a DataFrame\n",
      "\n",
      "See the caveats in the documentation: https://pandas.pydata.org/pandas-docs/stable/user_guide/indexing.html#returning-a-view-versus-a-copy\n",
      "  trydata_100.sort_values(by=[\"Start\"],inplace=True)\n",
      "<ipython-input-26-21cb78e33c94>:10: SettingWithCopyWarning: \n",
      "A value is trying to be set on a copy of a slice from a DataFrame.\n",
      "Try using .loc[row_indexer,col_indexer] = value instead\n",
      "\n",
      "See the caveats in the documentation: https://pandas.pydata.org/pandas-docs/stable/user_guide/indexing.html#returning-a-view-versus-a-copy\n",
      "  trydata_100['Start']=pd.to_datetime(trydata_100['Start'])\n",
      "<ipython-input-26-21cb78e33c94>:11: SettingWithCopyWarning: \n",
      "A value is trying to be set on a copy of a slice from a DataFrame.\n",
      "Try using .loc[row_indexer,col_indexer] = value instead\n",
      "\n",
      "See the caveats in the documentation: https://pandas.pydata.org/pandas-docs/stable/user_guide/indexing.html#returning-a-view-versus-a-copy\n",
      "  trydata_100['Finish']=pd.to_datetime(trydata_100['Finish'])\n"
     ]
    }
   ],
   "source": [
    "trydata=pd.merge(emptylist,df_min_max,on = 'Resource',how = 'left')\n",
    "\n",
    "trydata_50=trydata[trydata['per_trade_min']=='50.0000']\n",
    "trydata_50.sort_values(by=[\"Start\"],inplace=True)\n",
    "trydata_50['Start']=pd.to_datetime(trydata_50['Start'])\n",
    "trydata_50['Finish']=pd.to_datetime(trydata_50['Finish'])\n",
    "\n",
    "trydata_100=trydata[trydata['per_trade_min']=='100.0000']\n",
    "trydata_100.sort_values(by=[\"Start\"],inplace=True)\n",
    "trydata_100['Start']=pd.to_datetime(trydata_100['Start'])\n",
    "trydata_100['Finish']=pd.to_datetime(trydata_100['Finish'])"
   ]
  },
  {
   "cell_type": "code",
   "execution_count": 35,
   "metadata": {},
   "outputs": [],
   "source": [
    "def find_small_time(data,text,logistic='f'):\n",
    "    list_resource_50= pd.DataFrame(columns=['Resource','Resource_name','Start','Finish'])\n",
    "    j=0\n",
    "    if data['Start'].iloc[0] != pd.to_datetime(aaaaa1+' 00:00:00') :\n",
    "        list_resource_50=list_resource_50.append({\"Resource\":text,\"Resource_name\":text,\"Start\":aaaaa1+' 00:00:00', \"Finish\":data['Start'].iloc[0]},ignore_index=True)  \n",
    "    if data['Finish'].iloc[data.shape[0]-1] != pd.to_datetime(aaaaa1+' 23:59:59') :\n",
    "        list_resource_50=list_resource_50.append({\"Resource\":text,\"Resource_name\":text,\"Start\":data['Finish'].iloc[data.shape[0]-1], \"Finish\":aaaaa1+' 23:59:59'},ignore_index=True)  \n",
    "    \n",
    "    for i in range(data.shape[0]):\n",
    "        range_time=(data['Finish'].iloc[j]-data['Start'].iloc[j]).total_seconds()\n",
    "        if (data['Start'].iloc[i]-data['Start'].iloc[j]).total_seconds() < range_time :\n",
    "            logistic='t'\n",
    "            continue\n",
    "            \n",
    "        list_resource_50=list_resource_50.append({\"Resource\":text,\"Resource_name\":text,\"Start\":data['Finish'].iloc[j], \"Finish\":data['Start'].iloc[i]},ignore_index=True)  \n",
    "        if logistic=='t' :\n",
    "            j=i\n",
    "            logistic='f'    \n",
    "            \n",
    "    return(list_resource_50)"
   ]
  },
  {
   "cell_type": "code",
   "execution_count": 36,
   "metadata": {},
   "outputs": [],
   "source": [
    "no_50_time=find_small_time(trydata_50,'小額50未使用區間')\n",
    "no_100_time=find_small_time(trydata_100,'小額100未使用區間')"
   ]
  },
  {
   "cell_type": "code",
   "execution_count": 31,
   "metadata": {},
   "outputs": [],
   "source": [
    "plotly_data=testdata_all[['Resource','Resource_name','Start','Finish']].append(no_50_time).append(no_100_time)"
   ]
  },
  {
   "cell_type": "code",
   "execution_count": 250,
   "metadata": {},
   "outputs": [],
   "source": [
    "#pd.to_datetime(testdata_all['Start']).dt.strftime(\"%Y-%m-%d %H:%M:%S\") \n"
   ]
  },
  {
   "cell_type": "code",
   "execution_count": 30,
   "metadata": {},
   "outputs": [
    {
     "data": {
      "text/html": [
       "<div>\n",
       "<style scoped>\n",
       "    .dataframe tbody tr th:only-of-type {\n",
       "        vertical-align: middle;\n",
       "    }\n",
       "\n",
       "    .dataframe tbody tr th {\n",
       "        vertical-align: top;\n",
       "    }\n",
       "\n",
       "    .dataframe thead th {\n",
       "        text-align: right;\n",
       "    }\n",
       "</style>\n",
       "<table border=\"1\" class=\"dataframe\">\n",
       "  <thead>\n",
       "    <tr style=\"text-align: right;\">\n",
       "      <th></th>\n",
       "      <th>Resource</th>\n",
       "      <th>Start</th>\n",
       "      <th>Finish</th>\n",
       "      <th>time_open</th>\n",
       "      <th>per_trade_min</th>\n",
       "      <th>per_trade_max</th>\n",
       "    </tr>\n",
       "  </thead>\n",
       "  <tbody>\n",
       "    <tr>\n",
       "      <th>0</th>\n",
       "      <td>KoiPayment701-微信H5</td>\n",
       "      <td>2021-01-03 00:00:00</td>\n",
       "      <td>2021-01-03 11:43:05</td>\n",
       "      <td>0 days 11:43:05</td>\n",
       "      <td>50.0000</td>\n",
       "      <td>200.0000</td>\n",
       "    </tr>\n",
       "    <tr>\n",
       "      <th>19</th>\n",
       "      <td>拉斐支付707-微信H5</td>\n",
       "      <td>2021-01-03 00:00:00</td>\n",
       "      <td>2021-01-03 08:11:48</td>\n",
       "      <td>0 days 08:11:48</td>\n",
       "      <td>50.0000</td>\n",
       "      <td>200.0000</td>\n",
       "    </tr>\n",
       "    <tr>\n",
       "      <th>24</th>\n",
       "      <td>新快讯704-微信H5</td>\n",
       "      <td>2021-01-03 00:00:00</td>\n",
       "      <td>2021-01-03 07:41:09</td>\n",
       "      <td>0 days 07:41:09</td>\n",
       "      <td>50.0000</td>\n",
       "      <td>200.0000</td>\n",
       "    </tr>\n",
       "    <tr>\n",
       "      <th>38</th>\n",
       "      <td>远华支付702-银联H5</td>\n",
       "      <td>2021-01-03 04:59:26</td>\n",
       "      <td>2021-01-03 23:59:59</td>\n",
       "      <td>0 days 19:00:33</td>\n",
       "      <td>50.0000</td>\n",
       "      <td>20000.0000</td>\n",
       "    </tr>\n",
       "    <tr>\n",
       "      <th>28</th>\n",
       "      <td>新快讯706-收银台</td>\n",
       "      <td>2021-01-03 12:22:35</td>\n",
       "      <td>2021-01-03 18:56:41</td>\n",
       "      <td>0 days 06:34:06</td>\n",
       "      <td>50.0000</td>\n",
       "      <td>1499.0000</td>\n",
       "    </tr>\n",
       "    <tr>\n",
       "      <th>1</th>\n",
       "      <td>KoiPayment701-微信H5</td>\n",
       "      <td>2021-01-03 20:43:17</td>\n",
       "      <td>2021-01-03 23:59:59</td>\n",
       "      <td>0 days 03:16:42</td>\n",
       "      <td>50.0000</td>\n",
       "      <td>200.0000</td>\n",
       "    </tr>\n",
       "    <tr>\n",
       "      <th>20</th>\n",
       "      <td>拉斐支付707-微信H5</td>\n",
       "      <td>2021-01-03 21:18:31</td>\n",
       "      <td>2021-01-03 23:59:59</td>\n",
       "      <td>0 days 02:41:28</td>\n",
       "      <td>50.0000</td>\n",
       "      <td>200.0000</td>\n",
       "    </tr>\n",
       "    <tr>\n",
       "      <th>25</th>\n",
       "      <td>新快讯704-微信H5</td>\n",
       "      <td>2021-01-03 23:48:13</td>\n",
       "      <td>2021-01-03 23:59:59</td>\n",
       "      <td>0 days 00:11:46</td>\n",
       "      <td>50.0000</td>\n",
       "      <td>200.0000</td>\n",
       "    </tr>\n",
       "  </tbody>\n",
       "</table>\n",
       "</div>"
      ],
      "text/plain": [
       "              Resource               Start              Finish  \\\n",
       "0   KoiPayment701-微信H5 2021-01-03 00:00:00 2021-01-03 11:43:05   \n",
       "19        拉斐支付707-微信H5 2021-01-03 00:00:00 2021-01-03 08:11:48   \n",
       "24         新快讯704-微信H5 2021-01-03 00:00:00 2021-01-03 07:41:09   \n",
       "38        远华支付702-银联H5 2021-01-03 04:59:26 2021-01-03 23:59:59   \n",
       "28          新快讯706-收银台 2021-01-03 12:22:35 2021-01-03 18:56:41   \n",
       "1   KoiPayment701-微信H5 2021-01-03 20:43:17 2021-01-03 23:59:59   \n",
       "20        拉斐支付707-微信H5 2021-01-03 21:18:31 2021-01-03 23:59:59   \n",
       "25         新快讯704-微信H5 2021-01-03 23:48:13 2021-01-03 23:59:59   \n",
       "\n",
       "         time_open per_trade_min per_trade_max  \n",
       "0  0 days 11:43:05       50.0000      200.0000  \n",
       "19 0 days 08:11:48       50.0000      200.0000  \n",
       "24 0 days 07:41:09       50.0000      200.0000  \n",
       "38 0 days 19:00:33       50.0000    20000.0000  \n",
       "28 0 days 06:34:06       50.0000     1499.0000  \n",
       "1  0 days 03:16:42       50.0000      200.0000  \n",
       "20 0 days 02:41:28       50.0000      200.0000  \n",
       "25 0 days 00:11:46       50.0000      200.0000  "
      ]
     },
     "execution_count": 30,
     "metadata": {},
     "output_type": "execute_result"
    }
   ],
   "source": [
    "trydata_50"
   ]
  },
  {
   "cell_type": "code",
   "execution_count": 37,
   "metadata": {},
   "outputs": [
    {
     "data": {
      "text/html": [
       "<div>\n",
       "<style scoped>\n",
       "    .dataframe tbody tr th:only-of-type {\n",
       "        vertical-align: middle;\n",
       "    }\n",
       "\n",
       "    .dataframe tbody tr th {\n",
       "        vertical-align: top;\n",
       "    }\n",
       "\n",
       "    .dataframe thead th {\n",
       "        text-align: right;\n",
       "    }\n",
       "</style>\n",
       "<table border=\"1\" class=\"dataframe\">\n",
       "  <thead>\n",
       "    <tr style=\"text-align: right;\">\n",
       "      <th></th>\n",
       "      <th>Resource</th>\n",
       "      <th>Resource_name</th>\n",
       "      <th>Start</th>\n",
       "      <th>Finish</th>\n",
       "    </tr>\n",
       "  </thead>\n",
       "  <tbody>\n",
       "    <tr>\n",
       "      <th>0</th>\n",
       "      <td>小額50未使用區間</td>\n",
       "      <td>小額50未使用區間</td>\n",
       "      <td>2021-01-03 11:43:05</td>\n",
       "      <td>2021-01-03 12:22:35</td>\n",
       "    </tr>\n",
       "    <tr>\n",
       "      <th>1</th>\n",
       "      <td>小額50未使用區間</td>\n",
       "      <td>小額50未使用區間</td>\n",
       "      <td>2021-01-03 18:56:41</td>\n",
       "      <td>2021-01-03 20:43:17</td>\n",
       "    </tr>\n",
       "    <tr>\n",
       "      <th>2</th>\n",
       "      <td>小額50未使用區間</td>\n",
       "      <td>小額50未使用區間</td>\n",
       "      <td>2021-01-03 18:56:41</td>\n",
       "      <td>2021-01-03 21:18:31</td>\n",
       "    </tr>\n",
       "    <tr>\n",
       "      <th>3</th>\n",
       "      <td>小額50未使用區間</td>\n",
       "      <td>小額50未使用區間</td>\n",
       "      <td>2021-01-03 18:56:41</td>\n",
       "      <td>2021-01-03 23:48:13</td>\n",
       "    </tr>\n",
       "  </tbody>\n",
       "</table>\n",
       "</div>"
      ],
      "text/plain": [
       "    Resource Resource_name               Start              Finish\n",
       "0  小額50未使用區間     小額50未使用區間 2021-01-03 11:43:05 2021-01-03 12:22:35\n",
       "1  小額50未使用區間     小額50未使用區間 2021-01-03 18:56:41 2021-01-03 20:43:17\n",
       "2  小額50未使用區間     小額50未使用區間 2021-01-03 18:56:41 2021-01-03 21:18:31\n",
       "3  小額50未使用區間     小額50未使用區間 2021-01-03 18:56:41 2021-01-03 23:48:13"
      ]
     },
     "execution_count": 37,
     "metadata": {},
     "output_type": "execute_result"
    }
   ],
   "source": [
    "no_50_time"
   ]
  },
  {
   "cell_type": "code",
   "execution_count": null,
   "metadata": {},
   "outputs": [],
   "source": []
  },
  {
   "cell_type": "code",
   "execution_count": null,
   "metadata": {},
   "outputs": [],
   "source": []
  }
 ],
 "metadata": {
  "kernelspec": {
   "display_name": "Python 3",
   "language": "python",
   "name": "python3"
  },
  "language_info": {
   "codemirror_mode": {
    "name": "ipython",
    "version": 3
   },
   "file_extension": ".py",
   "mimetype": "text/x-python",
   "name": "python",
   "nbconvert_exporter": "python",
   "pygments_lexer": "ipython3",
   "version": "3.8.5"
  }
 },
 "nbformat": 4,
 "nbformat_minor": 4
}
